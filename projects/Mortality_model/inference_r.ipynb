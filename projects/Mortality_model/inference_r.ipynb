{
 "cells": [
  {
   "cell_type": "code",
   "execution_count": 1,
   "metadata": {
    "vscode": {
     "languageId": "r"
    }
   },
   "outputs": [
    {
     "name": "stderr",
     "output_type": "stream",
     "text": [
      "Loading required package: duckdb\n",
      "\n",
      "Loading required package: DBI\n",
      "\n",
      "Loading required package: lubridate\n",
      "\n",
      "\n",
      "Attaching package: 'lubridate'\n",
      "\n",
      "\n",
      "The following objects are masked from 'package:base':\n",
      "\n",
      "    date, intersect, setdiff, union\n",
      "\n",
      "\n",
      "Loading required package: tidyverse\n",
      "\n",
      "-- \u001b[1mAttaching packages\u001b[22m --------------------------------------- tidyverse 1.3.2 --\n",
      "\u001b[32mv\u001b[39m \u001b[34mggplot2\u001b[39m 3.4.2     \u001b[32mv\u001b[39m \u001b[34mpurrr  \u001b[39m 1.0.2\n",
      "\u001b[32mv\u001b[39m \u001b[34mtibble \u001b[39m 3.2.1     \u001b[32mv\u001b[39m \u001b[34mdplyr  \u001b[39m 1.1.4\n",
      "\u001b[32mv\u001b[39m \u001b[34mtidyr  \u001b[39m 1.3.1     \u001b[32mv\u001b[39m \u001b[34mstringr\u001b[39m 1.5.0\n",
      "\u001b[32mv\u001b[39m \u001b[34mreadr  \u001b[39m 2.1.5     \u001b[32mv\u001b[39m \u001b[34mforcats\u001b[39m 1.0.0\n",
      "-- \u001b[1mConflicts\u001b[22m ------------------------------------------ tidyverse_conflicts() --\n",
      "\u001b[31mx\u001b[39m \u001b[34mlubridate\u001b[39m::\u001b[32mas.difftime()\u001b[39m masks \u001b[34mbase\u001b[39m::as.difftime()\n",
      "\u001b[31mx\u001b[39m \u001b[34mlubridate\u001b[39m::\u001b[32mdate()\u001b[39m        masks \u001b[34mbase\u001b[39m::date()\n",
      "\u001b[31mx\u001b[39m \u001b[34mdplyr\u001b[39m::\u001b[32mfilter()\u001b[39m          masks \u001b[34mstats\u001b[39m::filter()\n",
      "\u001b[31mx\u001b[39m \u001b[34mlubridate\u001b[39m::\u001b[32mintersect()\u001b[39m   masks \u001b[34mbase\u001b[39m::intersect()\n",
      "\u001b[31mx\u001b[39m \u001b[34mdplyr\u001b[39m::\u001b[32mlag()\u001b[39m             masks \u001b[34mstats\u001b[39m::lag()\n",
      "\u001b[31mx\u001b[39m \u001b[34mlubridate\u001b[39m::\u001b[32msetdiff()\u001b[39m     masks \u001b[34mbase\u001b[39m::setdiff()\n",
      "\u001b[31mx\u001b[39m \u001b[34mlubridate\u001b[39m::\u001b[32munion()\u001b[39m       masks \u001b[34mbase\u001b[39m::union()\n",
      "Loading required package: arrow\n",
      "\n",
      "\n",
      "Attaching package: 'arrow'\n",
      "\n",
      "\n",
      "The following object is masked from 'package:lubridate':\n",
      "\n",
      "    duration\n",
      "\n",
      "\n",
      "The following object is masked from 'package:utils':\n",
      "\n",
      "    timestamp\n",
      "\n",
      "\n",
      "Loading required package: fst\n",
      "\n",
      "Loading required package: lightgbm\n",
      "\n",
      "Loading required package: R6\n",
      "\n",
      "\n",
      "Attaching package: 'lightgbm'\n",
      "\n",
      "\n",
      "The following object is masked from 'package:dplyr':\n",
      "\n",
      "    slice\n",
      "\n",
      "\n",
      "Loading required package: caret\n",
      "\n",
      "Loading required package: lattice\n",
      "\n",
      "\n",
      "Attaching package: 'caret'\n",
      "\n",
      "\n",
      "The following object is masked from 'package:purrr':\n",
      "\n",
      "    lift\n",
      "\n",
      "\n",
      "Loading required package: Metrics\n",
      "\n",
      "\n",
      "Attaching package: 'Metrics'\n",
      "\n",
      "\n",
      "The following objects are masked from 'package:caret':\n",
      "\n",
      "    precision, recall\n",
      "\n",
      "\n",
      "Loading required package: ROCR\n",
      "\n",
      "Loading required package: pROC\n",
      "\n",
      "Type 'citation(\"pROC\")' for a citation.\n",
      "\n",
      "\n",
      "Attaching package: 'pROC'\n",
      "\n",
      "\n",
      "The following object is masked from 'package:Metrics':\n",
      "\n",
      "    auc\n",
      "\n",
      "\n",
      "The following objects are masked from 'package:stats':\n",
      "\n",
      "    cov, smooth, var\n",
      "\n",
      "\n"
     ]
    },
    {
     "data": {
      "text/html": [
       "<dl>\n",
       "\t<dt>$duckdb</dt>\n",
       "\t\t<dd>NULL</dd>\n",
       "\t<dt>$lubridate</dt>\n",
       "\t\t<dd>NULL</dd>\n",
       "\t<dt>$tidyverse</dt>\n",
       "\t\t<dd>NULL</dd>\n",
       "\t<dt>$dplyr</dt>\n",
       "\t\t<dd>NULL</dd>\n",
       "\t<dt>$readr</dt>\n",
       "\t\t<dd>NULL</dd>\n",
       "\t<dt>$arrow</dt>\n",
       "\t\t<dd>NULL</dd>\n",
       "\t<dt>$fst</dt>\n",
       "\t\t<dd>NULL</dd>\n",
       "\t<dt>$lightgbm</dt>\n",
       "\t\t<dd>NULL</dd>\n",
       "\t<dt>$caret</dt>\n",
       "\t\t<dd>NULL</dd>\n",
       "\t<dt>$Metrics</dt>\n",
       "\t\t<dd>NULL</dd>\n",
       "\t<dt>$ROCR</dt>\n",
       "\t\t<dd>NULL</dd>\n",
       "\t<dt>$pROC</dt>\n",
       "\t\t<dd>NULL</dd>\n",
       "</dl>\n"
      ],
      "text/latex": [
       "\\begin{description}\n",
       "\\item[\\$duckdb] NULL\n",
       "\\item[\\$lubridate] NULL\n",
       "\\item[\\$tidyverse] NULL\n",
       "\\item[\\$dplyr] NULL\n",
       "\\item[\\$readr] NULL\n",
       "\\item[\\$arrow] NULL\n",
       "\\item[\\$fst] NULL\n",
       "\\item[\\$lightgbm] NULL\n",
       "\\item[\\$caret] NULL\n",
       "\\item[\\$Metrics] NULL\n",
       "\\item[\\$ROCR] NULL\n",
       "\\item[\\$pROC] NULL\n",
       "\\end{description}\n"
      ],
      "text/markdown": [
       "$duckdb\n",
       ":   NULL\n",
       "$lubridate\n",
       ":   NULL\n",
       "$tidyverse\n",
       ":   NULL\n",
       "$dplyr\n",
       ":   NULL\n",
       "$readr\n",
       ":   NULL\n",
       "$arrow\n",
       ":   NULL\n",
       "$fst\n",
       ":   NULL\n",
       "$lightgbm\n",
       ":   NULL\n",
       "$caret\n",
       ":   NULL\n",
       "$Metrics\n",
       ":   NULL\n",
       "$ROCR\n",
       ":   NULL\n",
       "$pROC\n",
       ":   NULL\n",
       "\n",
       "\n"
      ],
      "text/plain": [
       "$duckdb\n",
       "NULL\n",
       "\n",
       "$lubridate\n",
       "NULL\n",
       "\n",
       "$tidyverse\n",
       "NULL\n",
       "\n",
       "$dplyr\n",
       "NULL\n",
       "\n",
       "$readr\n",
       "NULL\n",
       "\n",
       "$arrow\n",
       "NULL\n",
       "\n",
       "$fst\n",
       "NULL\n",
       "\n",
       "$lightgbm\n",
       "NULL\n",
       "\n",
       "$caret\n",
       "NULL\n",
       "\n",
       "$Metrics\n",
       "NULL\n",
       "\n",
       "$ROCR\n",
       "NULL\n",
       "\n",
       "$pROC\n",
       "NULL\n"
      ]
     },
     "metadata": {},
     "output_type": "display_data"
    }
   ],
   "source": [
    "packages <- c(\"duckdb\", \"lubridate\", \"tidyverse\", \"dplyr\", \"readr\", \"arrow\", \"fst\", \"lightgbm\", \"caret\", \"Metrics\", \"ROCR\", \"pROC\")\n",
    "\n",
    "install_if_missing <- function(package) {\n",
    "  if (!require(package, character.only = TRUE)) {\n",
    "    install.packages(package, dependencies = TRUE)\n",
    "    library(package, character.only = TRUE)\n",
    "  }\n",
    "}\n",
    "\n",
    "sapply(packages, install_if_missing)\n",
    "\n",
    "con <- duckdb::dbConnect(duckdb::duckdb(), dbdir = \":memory:\")\n"
   ]
  },
  {
   "cell_type": "code",
   "execution_count": 2,
   "metadata": {
    "vscode": {
     "languageId": "r"
    }
   },
   "outputs": [],
   "source": [
    "tables_location <- \"C:/Users/vchaudha/OneDrive - rush.edu/CLIF-1.0-main\" \n",
    "site <-'RUSH'\n",
    "file_type <- '.csv'\n",
    "\n",
    "# Check if the output directory exists; if not, create it\n",
    "if (!dir.exists(\"output\")) {\n",
    "  dir.create(\"output\")\n",
    "}\n",
    "\n",
    "read_data <- function(file_path) {\n",
    "  if (grepl(\"\\\\.csv$\", file_path)) {\n",
    "    return(read.csv(file_path))\n",
    "  } else if (grepl(\"\\\\.parquet$\", file_path)) {\n",
    "    return(arrow::read_parquet(file_path))\n",
    "  } else if (grepl(\"\\\\.fst$\", file_path)) {\n",
    "    return(fst::read.fst(file_path))\n",
    "  } else {\n",
    "    stop(\"Unsupported file format\")\n",
    "  }\n",
    "}\n",
    "\n",
    "# Read data using the function and assign to variables\n",
    "location <- read_data(paste0(tables_location, \"/rclif/clif_adt\", file_type))\n",
    "encounter <- read_data(paste0(tables_location, \"/rclif/clif_encounter_demographics_dispo_clean\", file_type))\n",
    "limited <- read_data(paste0(tables_location, \"/rclif/clif_limited_identifiers\", file_type))\n",
    "demog <- read_data(paste0(tables_location, \"/rclif/clif_patient_demographics\", file_type))\n"
   ]
  },
  {
   "cell_type": "code",
   "execution_count": 3,
   "metadata": {
    "vscode": {
     "languageId": "r"
    }
   },
   "outputs": [
    {
     "data": {
      "text/html": [
       "<table class=\"dataframe\">\n",
       "<caption>A matrix: 2 × 6 of type dbl</caption>\n",
       "<thead>\n",
       "\t<tr><th></th><th scope=col>used</th><th scope=col>(Mb)</th><th scope=col>gc trigger</th><th scope=col>(Mb)</th><th scope=col>max used</th><th scope=col>(Mb)</th></tr>\n",
       "</thead>\n",
       "<tbody>\n",
       "\t<tr><th scope=row>Ncells</th><td> 3542229</td><td>189.2</td><td> 6845518</td><td>365.6</td><td> 6845518</td><td>365.6</td></tr>\n",
       "\t<tr><th scope=row>Vcells</th><td>22945958</td><td>175.1</td><td>54678675</td><td>417.2</td><td>45308755</td><td>345.7</td></tr>\n",
       "</tbody>\n",
       "</table>\n"
      ],
      "text/latex": [
       "A matrix: 2 × 6 of type dbl\n",
       "\\begin{tabular}{r|llllll}\n",
       "  & used & (Mb) & gc trigger & (Mb) & max used & (Mb)\\\\\n",
       "\\hline\n",
       "\tNcells &  3542229 & 189.2 &  6845518 & 365.6 &  6845518 & 365.6\\\\\n",
       "\tVcells & 22945958 & 175.1 & 54678675 & 417.2 & 45308755 & 345.7\\\\\n",
       "\\end{tabular}\n"
      ],
      "text/markdown": [
       "\n",
       "A matrix: 2 × 6 of type dbl\n",
       "\n",
       "| <!--/--> | used | (Mb) | gc trigger | (Mb) | max used | (Mb) |\n",
       "|---|---|---|---|---|---|---|\n",
       "| Ncells |  3542229 | 189.2 |  6845518 | 365.6 |  6845518 | 365.6 |\n",
       "| Vcells | 22945958 | 175.1 | 54678675 | 417.2 | 45308755 | 345.7 |\n",
       "\n"
      ],
      "text/plain": [
       "       used     (Mb)  gc trigger (Mb)  max used (Mb) \n",
       "Ncells  3542229 189.2  6845518   365.6  6845518 365.6\n",
       "Vcells 22945958 175.1 54678675   417.2 45308755 345.7"
      ]
     },
     "metadata": {},
     "output_type": "display_data"
    }
   ],
   "source": [
    "# First join operation\n",
    "join <- location %>%\n",
    "  select(encounter_id, location_category, in_dttm, out_dttm) %>%\n",
    "  left_join(limited %>% select(encounter_id, admission_dttm), by = \"encounter_id\")\n",
    "\n",
    "# Second join operation to get 'icu_data'\n",
    "icu_data <- join %>%\n",
    "  left_join(encounter %>% select(encounter_id, age_at_admission, disposition), by = \"encounter_id\") %>%\n",
    "  mutate(\n",
    "    admission_dttm = ymd_hms(admission_dttm), # Convert to POSIXct, adjust the function as per your date format\n",
    "    in_dttm = ymd_hms(in_dttm) # Convert to POSIXct, adjust the function as per your date format\n",
    "  )\n",
    "\n",
    "# Filter rows where location is ICU and in_dttm is within 48 hours of admission_dttm\n",
    "\n",
    "icu_48hr_check <- icu_data %>%\n",
    "  filter(location_category == \"ICU\",\n",
    "         in_dttm >= admission_dttm,\n",
    "         in_dttm <= admission_dttm + lubridate::hours(48),\n",
    "         lubridate::year(in_dttm) >= 2020,\n",
    "         lubridate::year(in_dttm) <= 2021,\n",
    "         age_at_admission >= 18,\n",
    "         !is.na(age_at_admission)) %>%\n",
    "  distinct(encounter_id) %>%\n",
    "  pull(encounter_id)\n",
    "  \n",
    "# Filter icu_data to only include rows with encounter_ids in icu_48hr_check and within 72 hours of admission\n",
    "icu_data <- icu_data %>%\n",
    "  filter(encounter_id %in% icu_48hr_check,\n",
    "         in_dttm <= admission_dttm + hours(72)) %>%\n",
    "  arrange(in_dttm) %>%\n",
    "  mutate(RANK = rank(in_dttm, ties.method = \"first\")) %>%\n",
    "  arrange(encounter_id, in_dttm) %>%\n",
    "  group_by(encounter_id) %>%\n",
    "  mutate(RANK = rank(in_dttm, ties.method = \"first\"))\n",
    "\n",
    "  # Compute minimum rank for ICU locations\n",
    "min_icu <- icu_data %>%\n",
    "  filter(location_category == \"ICU\") %>%\n",
    "  group_by(encounter_id) %>%\n",
    "  summarize(min_icu = min(RANK))\n",
    "\n",
    "# Merge the minimum ICU rank back into the original dataset\n",
    "icu_data <- icu_data %>%\n",
    "  left_join(min_icu, by = \"encounter_id\")\n",
    "\n",
    "# Filter based on rank being at least the minimum ICU rank\n",
    "icu_data <- icu_data %>%\n",
    "  filter(RANK >= min_icu) %>%\n",
    "  arrange(in_dttm)\n",
    "\n",
    "# Change 'OR' to 'ICU' in location_category\n",
    "icu_data <- icu_data %>%\n",
    "  mutate(location_category = ifelse(location_category == \"OR\", \"ICU\", location_category))\n",
    "\n",
    "# Create a new group_id based on changes in location_category\n",
    "icu_data <- icu_data %>%\n",
    "  group_by(encounter_id) %>%\n",
    "  mutate(group_id = cumsum(location_category != lag(location_category, default = first(location_category)))) %>%\n",
    "  ungroup()\n",
    "\n",
    "icu_data <- icu_data %>%\n",
    "  group_by(encounter_id, location_category, group_id) %>%\n",
    "  summarize(\n",
    "    min_in_dttm = min(in_dttm),\n",
    "    max_out_dttm = max(out_dttm),\n",
    "    admission_dttm = first(admission_dttm),\n",
    "    age = first(age_at_admission),\n",
    "    dispo = first(disposition),\n",
    "    .groups = 'drop'\n",
    "  )\n",
    "\n",
    "# Compute minimum group_id for each encounter_id where location_category is 'ICU'\n",
    "min_icu <- icu_data %>%\n",
    "  filter(location_category == \"ICU\") %>%\n",
    "  group_by(encounter_id) %>%\n",
    "  summarize(min_icu = min(group_id), .groups = 'drop')\n",
    "\n",
    "# Merge the minimum ICU group_id back into the original dataset\n",
    "icu_data <- left_join(icu_data, min_icu, by = \"encounter_id\")\n",
    "\n",
    "# Filter based on group_id matching min_icu and duration condition\n",
    "icu_data <- icu_data %>%\n",
    "  filter(min_icu == group_id,\n",
    "         interval(min_in_dttm, max_out_dttm) >= dhours(24)) %>%\n",
    "  arrange(min_in_dttm)\n",
    "\n",
    "  # Add 24 hours to the 'min_in_dttm' column\n",
    "icu_data <- icu_data %>%\n",
    "  mutate(after_24hr = min_in_dttm + hours(24))\n",
    "\n",
    "# Select specific columns\n",
    "icu_data <- icu_data %>%\n",
    "  select(encounter_id, min_in_dttm, after_24hr, age, dispo)\n",
    "\n",
    "# Merge with demographic data and select specific columns\n",
    "icu_data <- icu_data %>%\n",
    "  left_join(demog, by = \"encounter_id\") %>%\n",
    "  select(encounter_id, min_in_dttm, after_24hr, age, dispo, sex, ethnicity, race)\n",
    "\n",
    "# Remove rows with missing 'sex' and create new variables\n",
    "icu_data <- icu_data %>%\n",
    "  filter(!is.na(sex)) %>%\n",
    "  mutate(\n",
    "    isfemale = as.integer(tolower(sex) == \"female\"),\n",
    "    isdeathdispo = as.integer(grepl(\"dead|expired\", dispo, ignore.case = TRUE))\n",
    "  )\n",
    "\n",
    "# Define race and ethnicity mappings using case_when\n",
    "icu_data <- icu_data %>%\n",
    "  mutate(\n",
    "    race = case_when(\n",
    "      race == \"White\" ~ \"White\",\n",
    "      race == \"Black or African American\" ~ \"Black\",\n",
    "      race == \"Asian\" ~ \"Asian\",\n",
    "      race %in% c(\"Other\", \"Unknown\", \"Did Not Encounter\", \"Refusal\", \n",
    "                  \"American Indian or Alaska Native\", \n",
    "                  \"Native Hawaiian or Other Pacific Islander\") ~ \"Others\",\n",
    "      TRUE ~ \"Others\"  # Default case for NA and any other unexpected values\n",
    "    ),\n",
    "    ethnicity = case_when(\n",
    "      ethnicity == \"Not Hispanic or Latino\" ~ \"Not Hispanic or Latino\",\n",
    "      ethnicity == \"Hispanic or Latino\" ~ \"Hispanic or Latino\",\n",
    "      ethnicity %in% c(\"Did Not Encounter\", \"Refusal\", \"*Unspecified\") ~ \"Others\",\n",
    "      TRUE ~ \"Others\"  # Default case for NA and any other unexpected values\n",
    "    )\n",
    "  )\n",
    "\n",
    "rm( encounter, limited, demog)\n",
    "gc()  # invokes garbage collection"
   ]
  },
  {
   "cell_type": "markdown",
   "metadata": {},
   "source": [
    "### vitals"
   ]
  },
  {
   "cell_type": "code",
   "execution_count": 4,
   "metadata": {
    "vscode": {
     "languageId": "r"
    }
   },
   "outputs": [],
   "source": [
    "vitals <- read_data(paste0(tables_location, \"/rclif/clif_vitals_clean\", file_type))\n",
    "duckdb_register(con, \"vitals\", vitals)\n",
    "duckdb_register(con, \"icu_data\", icu_data)"
   ]
  },
  {
   "cell_type": "code",
   "execution_count": 5,
   "metadata": {
    "vscode": {
     "languageId": "r"
    }
   },
   "outputs": [],
   "source": [
    "vitals <- dbGetQuery(con, \"SELECT \n",
    "        encounter_id,\n",
    "        CAST(recorded_dttm AS datetime) AS recorded_dttm,\n",
    "        CAST(vital_value AS float) AS vital_value,\n",
    "        vital_category \n",
    "    FROM \n",
    "        vitals\n",
    "    WHERE \n",
    "        vital_category IN ('weight_kg', 'pulse', 'sbp', 'dbp', 'temp_c','height_inches') \n",
    "        AND encounter_id IN (SELECT DISTINCT encounter_id FROM icu_data);\")\n",
    "duckdb_unregister(con, \"vitals\")       "
   ]
  },
  {
   "cell_type": "code",
   "execution_count": 6,
   "metadata": {
    "vscode": {
     "languageId": "r"
    }
   },
   "outputs": [
    {
     "data": {
      "text/html": [
       "<table class=\"dataframe\">\n",
       "<caption>A matrix: 2 × 6 of type dbl</caption>\n",
       "<thead>\n",
       "\t<tr><th></th><th scope=col>used</th><th scope=col>(Mb)</th><th scope=col>gc trigger</th><th scope=col>(Mb)</th><th scope=col>max used</th><th scope=col>(Mb)</th></tr>\n",
       "</thead>\n",
       "<tbody>\n",
       "\t<tr><th scope=row>Ncells</th><td> 3553690</td><td>189.8</td><td> 31135278</td><td>1662.9</td><td> 38919097</td><td>2078.6</td></tr>\n",
       "\t<tr><th scope=row>Vcells</th><td>45949339</td><td>350.6</td><td>263796257</td><td>2012.7</td><td>641311850</td><td>4892.9</td></tr>\n",
       "</tbody>\n",
       "</table>\n"
      ],
      "text/latex": [
       "A matrix: 2 × 6 of type dbl\n",
       "\\begin{tabular}{r|llllll}\n",
       "  & used & (Mb) & gc trigger & (Mb) & max used & (Mb)\\\\\n",
       "\\hline\n",
       "\tNcells &  3553690 & 189.8 &  31135278 & 1662.9 &  38919097 & 2078.6\\\\\n",
       "\tVcells & 45949339 & 350.6 & 263796257 & 2012.7 & 641311850 & 4892.9\\\\\n",
       "\\end{tabular}\n"
      ],
      "text/markdown": [
       "\n",
       "A matrix: 2 × 6 of type dbl\n",
       "\n",
       "| <!--/--> | used | (Mb) | gc trigger | (Mb) | max used | (Mb) |\n",
       "|---|---|---|---|---|---|---|\n",
       "| Ncells |  3553690 | 189.8 |  31135278 | 1662.9 |  38919097 | 2078.6 |\n",
       "| Vcells | 45949339 | 350.6 | 263796257 | 2012.7 | 641311850 | 4892.9 |\n",
       "\n"
      ],
      "text/plain": [
       "       used     (Mb)  gc trigger (Mb)   max used  (Mb)  \n",
       "Ncells  3553690 189.8  31135278  1662.9  38919097 2078.6\n",
       "Vcells 45949339 350.6 263796257  2012.7 641311850 4892.9"
      ]
     },
     "metadata": {},
     "output_type": "display_data"
    }
   ],
   "source": [
    "pivoted_data <- vitals %>%\n",
    "  group_by(encounter_id, recorded_dttm, vital_category) %>%\n",
    "  summarise(first_vital_value = first(vital_value), .groups = 'drop') %>%\n",
    "  pivot_wider(\n",
    "    names_from = vital_category,\n",
    "    values_from = first_vital_value\n",
    "  ) %>%  as.data.frame\n",
    "\n",
    "rm(vitals)\n",
    "gc()  # invokes garbage collection"
   ]
  },
  {
   "cell_type": "code",
   "execution_count": 7,
   "metadata": {
    "vscode": {
     "languageId": "r"
    }
   },
   "outputs": [
    {
     "data": {
      "text/html": [
       "<table class=\"dataframe\">\n",
       "<caption>A matrix: 2 × 6 of type dbl</caption>\n",
       "<thead>\n",
       "\t<tr><th></th><th scope=col>used</th><th scope=col>(Mb)</th><th scope=col>gc trigger</th><th scope=col>(Mb)</th><th scope=col>max used</th><th scope=col>(Mb)</th></tr>\n",
       "</thead>\n",
       "<tbody>\n",
       "\t<tr><th scope=row>Ncells</th><td> 3608567</td><td>192.8</td><td> 24908223</td><td>1330.3</td><td> 38919097</td><td>2078.6</td></tr>\n",
       "\t<tr><th scope=row>Vcells</th><td>23463518</td><td>179.1</td><td>211037006</td><td>1610.1</td><td>641311850</td><td>4892.9</td></tr>\n",
       "</tbody>\n",
       "</table>\n"
      ],
      "text/latex": [
       "A matrix: 2 × 6 of type dbl\n",
       "\\begin{tabular}{r|llllll}\n",
       "  & used & (Mb) & gc trigger & (Mb) & max used & (Mb)\\\\\n",
       "\\hline\n",
       "\tNcells &  3608567 & 192.8 &  24908223 & 1330.3 &  38919097 & 2078.6\\\\\n",
       "\tVcells & 23463518 & 179.1 & 211037006 & 1610.1 & 641311850 & 4892.9\\\\\n",
       "\\end{tabular}\n"
      ],
      "text/markdown": [
       "\n",
       "A matrix: 2 × 6 of type dbl\n",
       "\n",
       "| <!--/--> | used | (Mb) | gc trigger | (Mb) | max used | (Mb) |\n",
       "|---|---|---|---|---|---|---|\n",
       "| Ncells |  3608567 | 192.8 |  24908223 | 1330.3 |  38919097 | 2078.6 |\n",
       "| Vcells | 23463518 | 179.1 | 211037006 | 1610.1 | 641311850 | 4892.9 |\n",
       "\n"
      ],
      "text/plain": [
       "       used     (Mb)  gc trigger (Mb)   max used  (Mb)  \n",
       "Ncells  3608567 192.8  24908223  1330.3  38919097 2078.6\n",
       "Vcells 23463518 179.1 211037006  1610.1 641311850 4892.9"
      ]
     },
     "metadata": {},
     "output_type": "display_data"
    }
   ],
   "source": [
    "pivoted_data <- pivoted_data %>%\n",
    "  mutate(\n",
    "    height_meters = height_inches * 0.0254,\n",
    "    bmi = weight_kg / (height_meters ^ 2)\n",
    "  ) %>%  as.data.frame\n",
    "\n",
    "# Merge vitals data with icu_data\n",
    "icu_data_agg <- icu_data %>%\n",
    "  left_join(pivoted_data, by = \"encounter_id\") %>%  as.data.frame\n",
    "\n",
    "# Filter records based on time conditions\n",
    "icu_data_agg <- icu_data_agg %>%\n",
    "  filter(recorded_dttm >= min_in_dttm & recorded_dttm <= after_24hr) %>%\n",
    "  arrange(recorded_dttm) %>%\n",
    "  select(-recorded_dttm)  %>%  as.data.frame\n",
    "\n",
    "duckdb_register(con, \"icu_data_agg\", icu_data_agg)\n",
    "# Aggregate data\n",
    "icu_data_agg <- tbl(con, \"icu_data_agg\") %>% \n",
    "  group_by(encounter_id) %>%\n",
    "  summarize(\n",
    "    min_bmi = min(bmi, na.rm = TRUE),\n",
    "    max_bmi = max(bmi, na.rm = TRUE),\n",
    "    avg_bmi = mean(bmi, na.rm = TRUE),\n",
    "    min_weight_kg = min(weight_kg, na.rm = TRUE), \n",
    "    max_weight_kg = max(weight_kg, na.rm = TRUE),\n",
    "    avg_weight_kg = mean(weight_kg, na.rm = TRUE),\n",
    "    min_pulse = min(pulse, na.rm = TRUE),\n",
    "    max_pulse = max(pulse, na.rm = TRUE),\n",
    "    avg_pulse = mean(pulse, na.rm = TRUE),\n",
    "    min_sbp = min(sbp, na.rm = TRUE),\n",
    "    max_sbp = max(sbp, na.rm = TRUE),\n",
    "    avg_sbp = mean(sbp, na.rm = TRUE),\n",
    "    min_dbp = min(dbp, na.rm = TRUE),\n",
    "    max_dbp = max(dbp, na.rm = TRUE),\n",
    "    avg_dbp = mean(dbp, na.rm = TRUE),\n",
    "    min_temp_c = min(temp_c, na.rm = TRUE),\n",
    "    max_temp_c = max(temp_c, na.rm = TRUE),\n",
    "    avg_temp_c = mean(temp_c, na.rm = TRUE),\n",
    "    .groups = \"drop\"  # Avoid auto-grouping in subsequent operations\n",
    "  ) %>% collect() %>%   as.data.frame\n",
    "\n",
    "# Merge aggregated data back into the original icu_data\n",
    "icu_data <- left_join(icu_data, icu_data_agg, by = \"encounter_id\")\n",
    "\n",
    "duckdb_unregister(con, \"icu_data_agg\")\n",
    "rm(icu_data_agg,pivoted_data)\n",
    "gc()  # invokes garbage collection"
   ]
  },
  {
   "cell_type": "markdown",
   "metadata": {},
   "source": [
    "### labs"
   ]
  },
  {
   "cell_type": "code",
   "execution_count": 8,
   "metadata": {
    "vscode": {
     "languageId": "r"
    }
   },
   "outputs": [],
   "source": [
    "labs <- read_data(paste0(tables_location, \"/rclif/clif_labs_clean\", file_type))\n",
    "duckdb_register(con, \"labs\", labs)"
   ]
  },
  {
   "cell_type": "code",
   "execution_count": 9,
   "metadata": {
    "vscode": {
     "languageId": "r"
    }
   },
   "outputs": [],
   "source": [
    "labs <- dbGetQuery(con, \"\n",
    " SELECT \n",
    "        encounter_id,\n",
    "        CAST(lab_order_dttm AS datetime) AS lab_order_dttm,\n",
    "        TRY_CAST(lab_value AS float) AS lab_value,\n",
    "        lab_category \n",
    "    FROM \n",
    "        labs\n",
    "    WHERE \n",
    "        ((lab_category='monocyte' and reference_unit = '%' and lab_type_name='standard') OR\n",
    "        (lab_category='lymphocyte' and reference_unit = '%' and lab_type_name='standard') OR\n",
    "        (lab_category='basophil' and reference_unit = '%' and lab_type_name='standard') OR\n",
    "        (lab_category='neutrophil' and reference_unit = '%' and lab_type_name='standard') OR\n",
    "        (lab_category='albumin' and reference_unit = 'g/dL' and lab_type_name='standard') OR\n",
    "        (lab_category='ast' and reference_unit = 'U/L' and lab_type_name='standard') OR\n",
    "        (lab_category='total_protein' and reference_unit = 'g/dL' and lab_type_name='standard') OR\n",
    "        (lab_category='alkaline_phosphatase' and reference_unit = 'U/L' and lab_type_name='standard') OR\n",
    "        (lab_category='bilirubin_total' and reference_unit = 'mg/dL' and lab_type_name='standard') OR\n",
    "        (lab_category='bilirubin_conjugated' and reference_unit = 'mg/dL' and lab_type_name='standard') OR\n",
    "        (lab_category='calcium' and reference_unit = 'mg/dL' and lab_type_name='standard') OR\n",
    "        (lab_category='chloride' and reference_unit = 'mmol/L' and lab_type_name='standard') OR\n",
    "        (lab_category='potassium' and reference_unit = 'mmol/L' and lab_type_name='standard') OR\n",
    "        (lab_category='sodium' and reference_unit = 'mmol/L' and lab_type_name='standard') OR\n",
    "        (lab_category='glucose_serum' and reference_unit = 'mg/dL' and lab_type_name='standard') OR\n",
    "        (lab_category='hemoglobin' and reference_unit = 'g/dL' and lab_type_name='standard') OR\n",
    "        (lab_category='platelet count' and reference_unit = 'K/uL' and lab_type_name='standard') OR\n",
    "        (lab_category='wbc' and reference_unit = 'K/uL' and lab_type_name='standard'))  \n",
    "        AND encounter_id IN (SELECT DISTINCT encounter_id FROM icu_data);\n",
    "\")\n",
    "\n",
    "pivoted_data <- labs  %>%\n",
    "  group_by(encounter_id, lab_order_dttm, lab_category) %>%\n",
    "  summarise(first_lab_value = first(lab_value), .groups = 'drop') %>%\n",
    "  pivot_wider(\n",
    "    names_from = lab_category,\n",
    "    values_from = first_lab_value\n",
    "  )  %>% \n",
    "  as.data.frame\n",
    "\n",
    "icu_data_agg <- left_join(icu_data, pivoted_data, by = \"encounter_id\")\n",
    "\n",
    "icu_data_agg <- filter(icu_data_agg, lab_order_dttm >= min_in_dttm & lab_order_dttm <= after_24hr) %>% \n",
    "  as.data.frame"
   ]
  },
  {
   "cell_type": "code",
   "execution_count": 10,
   "metadata": {
    "vscode": {
     "languageId": "r"
    }
   },
   "outputs": [
    {
     "data": {
      "text/html": [
       "<table class=\"dataframe\">\n",
       "<caption>A matrix: 2 × 6 of type dbl</caption>\n",
       "<thead>\n",
       "\t<tr><th></th><th scope=col>used</th><th scope=col>(Mb)</th><th scope=col>gc trigger</th><th scope=col>(Mb)</th><th scope=col>max used</th><th scope=col>(Mb)</th></tr>\n",
       "</thead>\n",
       "<tbody>\n",
       "\t<tr><th scope=row>Ncells</th><td>  5090385</td><td> 271.9</td><td> 15941264</td><td> 851.4</td><td> 38919097</td><td>2078.6</td></tr>\n",
       "\t<tr><th scope=row>Vcells</th><td>236379619</td><td>1803.5</td><td>630947513</td><td>4813.8</td><td>641311850</td><td>4892.9</td></tr>\n",
       "</tbody>\n",
       "</table>\n"
      ],
      "text/latex": [
       "A matrix: 2 × 6 of type dbl\n",
       "\\begin{tabular}{r|llllll}\n",
       "  & used & (Mb) & gc trigger & (Mb) & max used & (Mb)\\\\\n",
       "\\hline\n",
       "\tNcells &   5090385 &  271.9 &  15941264 &  851.4 &  38919097 & 2078.6\\\\\n",
       "\tVcells & 236379619 & 1803.5 & 630947513 & 4813.8 & 641311850 & 4892.9\\\\\n",
       "\\end{tabular}\n"
      ],
      "text/markdown": [
       "\n",
       "A matrix: 2 × 6 of type dbl\n",
       "\n",
       "| <!--/--> | used | (Mb) | gc trigger | (Mb) | max used | (Mb) |\n",
       "|---|---|---|---|---|---|---|\n",
       "| Ncells |   5090385 |  271.9 |  15941264 |  851.4 |  38919097 | 2078.6 |\n",
       "| Vcells | 236379619 | 1803.5 | 630947513 | 4813.8 | 641311850 | 4892.9 |\n",
       "\n"
      ],
      "text/plain": [
       "       used      (Mb)   gc trigger (Mb)   max used  (Mb)  \n",
       "Ncells   5090385  271.9  15941264   851.4  38919097 2078.6\n",
       "Vcells 236379619 1803.5 630947513  4813.8 641311850 4892.9"
      ]
     },
     "metadata": {},
     "output_type": "display_data"
    }
   ],
   "source": [
    "duckdb_register(con, \"icu_data_agg\", icu_data_agg)\n",
    "\n",
    "Lab_variables <- c('albumin', 'alkaline_phosphatase',\n",
    "       'ast', 'basophil', 'bilirubin_conjugated', 'bilirubin_total', 'calcium',\n",
    "       'chloride', 'hemoglobin', 'lymphocyte', 'monocyte', 'glucose_serum', \n",
    "       'neutrophil', 'potassium', 'sodium', 'total_protein','platelet count', \n",
    "       'wbc')\n",
    "\n",
    "icu_data_agg <- tbl(con, \"icu_data_agg\") %>% \n",
    "  group_by(encounter_id) %>%\n",
    "  summarise(across(all_of(Lab_variables), list(\n",
    "    min = ~min(., na.rm = TRUE), \n",
    "    max = ~max(., na.rm = TRUE), \n",
    "    mean = ~mean(., na.rm = TRUE)\n",
    "  ), .names = \"{.col}_{.fn}\")) %>%\n",
    "  ungroup() %>% collect() %>%   as.data.frame # Ensure no residual grouping\n",
    "\n",
    "duckdb_unregister(con, \"icu_data_agg\")\n",
    "\n",
    "# Merge aggregated data back into the original icu_data\n",
    "icu_data <- left_join(icu_data, icu_data_agg, by = \"encounter_id\") %>%   as.data.frame\n",
    "\n",
    "rm(icu_data_agg,pivoted_data,labs)\n",
    "gc() "
   ]
  },
  {
   "cell_type": "code",
   "execution_count": 11,
   "metadata": {
    "vscode": {
     "languageId": "r"
    }
   },
   "outputs": [],
   "source": [
    "#write.csv(icu_data, \"icu_data.csv\", row.names = FALSE)\n",
    "# to skip next time\n",
    "#icu_data <- read_data(paste0(tables_location, \"/rclif/icu_data\", file_type))"
   ]
  },
  {
   "cell_type": "markdown",
   "metadata": {},
   "source": [
    "### model"
   ]
  },
  {
   "cell_type": "code",
   "execution_count": 12,
   "metadata": {
    "vscode": {
     "languageId": "r"
    }
   },
   "outputs": [
    {
     "data": {
      "text/html": [
       "<style>\n",
       ".list-inline {list-style: none; margin:0; padding: 0}\n",
       ".list-inline>li {display: inline-block}\n",
       ".list-inline>li:not(:last-child)::after {content: \"\\00b7\"; padding: 0 .5ex}\n",
       "</style>\n",
       "<ol class=list-inline><li>14590</li><li>82</li></ol>\n"
      ],
      "text/latex": [
       "\\begin{enumerate*}\n",
       "\\item 14590\n",
       "\\item 82\n",
       "\\end{enumerate*}\n"
      ],
      "text/markdown": [
       "1. 14590\n",
       "2. 82\n",
       "\n",
       "\n"
      ],
      "text/plain": [
       "[1] 14590    82"
      ]
     },
     "metadata": {},
     "output_type": "display_data"
    }
   ],
   "source": [
    "dim(icu_data)\n",
    "\n",
    "model_col <- c('isfemale', 'age', 'min_bmi', 'max_bmi', 'avg_bmi',\n",
    "               'min_weight_kg', 'max_weight_kg', 'avg_weight_kg', 'min_pulse',\n",
    "               'max_pulse', 'avg_pulse', 'min_sbp', 'max_sbp', 'avg_sbp', 'min_dbp',\n",
    "               'max_dbp', 'avg_dbp', 'min_temp_c', 'max_temp_c', 'avg_temp_c',\n",
    "               'albumin_min', 'albumin_max', 'albumin_mean',\n",
    "               'alkaline_phosphatase_min', 'alkaline_phosphatase_max',\n",
    "               'alkaline_phosphatase_mean', 'ast_min', 'ast_max', 'ast_mean',\n",
    "               'basophil_min', 'basophil_max', 'basophil_mean',\n",
    "               'bilirubin_conjugated_min', 'bilirubin_conjugated_max',\n",
    "               'bilirubin_conjugated_mean', 'bilirubin_total_min',\n",
    "               'bilirubin_total_max', 'bilirubin_total_mean', 'calcium_min',\n",
    "               'calcium_max', 'calcium_mean', 'chloride_min', 'chloride_max',\n",
    "               'chloride_mean', 'glucose_serum_min', 'glucose_serum_max',\n",
    "               'glucose_serum_mean', 'hemoglobin_min', 'hemoglobin_max',\n",
    "               'hemoglobin_mean', 'lymphocyte_min', 'lymphocyte_max',\n",
    "               'lymphocyte_mean', 'monocyte_min', 'monocyte_max', 'monocyte_mean',\n",
    "               'neutrophil_min', 'neutrophil_max', 'neutrophil_mean',\n",
    "               'platelet count_min', 'platelet count_max', 'platelet count_mean',\n",
    "               'potassium_min', 'potassium_max', 'potassium_mean', 'sodium_min',\n",
    "               'sodium_max', 'sodium_mean', 'total_protein_min', 'total_protein_max',\n",
    "               'total_protein_mean', 'wbc_min', 'wbc_max', 'wbc_mean')\n",
    "\n",
    "\n",
    "model_file_path <- sprintf(\"%s/projects/Mortality_model/models/lgbm_model_20240529-110556.txt\", tables_location)\n",
    "\n",
    "# Load the model\n",
    "model <- lgb.load(model_file_path)"
   ]
  },
  {
   "cell_type": "markdown",
   "metadata": {},
   "source": [
    "### probablity table"
   ]
  },
  {
   "cell_type": "code",
   "execution_count": 13,
   "metadata": {
    "vscode": {
     "languageId": "r"
    }
   },
   "outputs": [],
   "source": [
    "X_test <- as.matrix(icu_data[model_col])\n",
    "y_test <- factor(icu_data$isdeathdispo)  \n",
    "y_pred_proba <- predict(model, X_test)\n",
    "y_pred_class <- as.numeric(y_pred_proba > 0.5)\n",
    "icu_data$pred_proba <- y_pred_proba\n"
   ]
  },
  {
   "cell_type": "code",
   "execution_count": 14,
   "metadata": {
    "vscode": {
     "languageId": "r"
    }
   },
   "outputs": [
    {
     "data": {
      "text/html": [
       "<table class=\"dataframe\">\n",
       "<caption>A data.frame: 6 × 3</caption>\n",
       "<thead>\n",
       "\t<tr><th></th><th scope=col>site_label</th><th scope=col>site_proba</th><th scope=col>site_name</th></tr>\n",
       "\t<tr><th></th><th scope=col>&lt;fct&gt;</th><th scope=col>&lt;dbl&gt;</th><th scope=col>&lt;chr&gt;</th></tr>\n",
       "</thead>\n",
       "<tbody>\n",
       "\t<tr><th scope=row>1</th><td>0</td><td>0.010470865</td><td>RUSH</td></tr>\n",
       "\t<tr><th scope=row>2</th><td>0</td><td>0.078697177</td><td>RUSH</td></tr>\n",
       "\t<tr><th scope=row>3</th><td>0</td><td>0.014116607</td><td>RUSH</td></tr>\n",
       "\t<tr><th scope=row>4</th><td>0</td><td>0.004781634</td><td>RUSH</td></tr>\n",
       "\t<tr><th scope=row>5</th><td>0</td><td>0.045162852</td><td>RUSH</td></tr>\n",
       "\t<tr><th scope=row>6</th><td>0</td><td>0.154236725</td><td>RUSH</td></tr>\n",
       "</tbody>\n",
       "</table>\n"
      ],
      "text/latex": [
       "A data.frame: 6 × 3\n",
       "\\begin{tabular}{r|lll}\n",
       "  & site\\_label & site\\_proba & site\\_name\\\\\n",
       "  & <fct> & <dbl> & <chr>\\\\\n",
       "\\hline\n",
       "\t1 & 0 & 0.010470865 & RUSH\\\\\n",
       "\t2 & 0 & 0.078697177 & RUSH\\\\\n",
       "\t3 & 0 & 0.014116607 & RUSH\\\\\n",
       "\t4 & 0 & 0.004781634 & RUSH\\\\\n",
       "\t5 & 0 & 0.045162852 & RUSH\\\\\n",
       "\t6 & 0 & 0.154236725 & RUSH\\\\\n",
       "\\end{tabular}\n"
      ],
      "text/markdown": [
       "\n",
       "A data.frame: 6 × 3\n",
       "\n",
       "| <!--/--> | site_label &lt;fct&gt; | site_proba &lt;dbl&gt; | site_name &lt;chr&gt; |\n",
       "|---|---|---|---|\n",
       "| 1 | 0 | 0.010470865 | RUSH |\n",
       "| 2 | 0 | 0.078697177 | RUSH |\n",
       "| 3 | 0 | 0.014116607 | RUSH |\n",
       "| 4 | 0 | 0.004781634 | RUSH |\n",
       "| 5 | 0 | 0.045162852 | RUSH |\n",
       "| 6 | 0 | 0.154236725 | RUSH |\n",
       "\n"
      ],
      "text/plain": [
       "  site_label site_proba  site_name\n",
       "1 0          0.010470865 RUSH     \n",
       "2 0          0.078697177 RUSH     \n",
       "3 0          0.014116607 RUSH     \n",
       "4 0          0.004781634 RUSH     \n",
       "5 0          0.045162852 RUSH     \n",
       "6 0          0.154236725 RUSH     "
      ]
     },
     "metadata": {},
     "output_type": "display_data"
    }
   ],
   "source": [
    "site_label <- y_test\n",
    "site_proba <- y_pred_proba\n",
    "site_name <- rep(site, length(site_label))\n",
    "prob_df_lgbm <- data.frame(site_label, site_proba, site_name)\n",
    "write.csv(prob_df_lgbm, file = paste0(\"output/Model_probabilities_\", site, \".csv\"), row.names = FALSE)\n",
    "head(prob_df_lgbm)"
   ]
  },
  {
   "cell_type": "markdown",
   "metadata": {},
   "source": [
    "### basic metrics"
   ]
  },
  {
   "cell_type": "code",
   "execution_count": 15,
   "metadata": {
    "vscode": {
     "languageId": "r"
    }
   },
   "outputs": [
    {
     "name": "stderr",
     "output_type": "stream",
     "text": [
      "Setting levels: control = 0, case = 1\n",
      "\n",
      "Setting direction: controls < cases\n",
      "\n"
     ]
    },
    {
     "data": {
      "text/html": [
       "<table class=\"dataframe\">\n",
       "<caption>A data.frame: 4 × 3</caption>\n",
       "<thead>\n",
       "\t<tr><th scope=col>Metric</th><th scope=col>Value</th><th scope=col>SiteName</th></tr>\n",
       "\t<tr><th scope=col>&lt;chr&gt;</th><th scope=col>&lt;dbl&gt;</th><th scope=col>&lt;chr&gt;</th></tr>\n",
       "</thead>\n",
       "<tbody>\n",
       "\t<tr><td>Accuracy </td><td>0.9549692</td><td>RUSH</td></tr>\n",
       "\t<tr><td>Recall   </td><td>0.4254346</td><td>RUSH</td></tr>\n",
       "\t<tr><td>Precision</td><td>0.9412955</td><td>RUSH</td></tr>\n",
       "\t<tr><td>ROC AUC  </td><td>0.9493432</td><td>RUSH</td></tr>\n",
       "</tbody>\n",
       "</table>\n"
      ],
      "text/latex": [
       "A data.frame: 4 × 3\n",
       "\\begin{tabular}{lll}\n",
       " Metric & Value & SiteName\\\\\n",
       " <chr> & <dbl> & <chr>\\\\\n",
       "\\hline\n",
       "\t Accuracy  & 0.9549692 & RUSH\\\\\n",
       "\t Recall    & 0.4254346 & RUSH\\\\\n",
       "\t Precision & 0.9412955 & RUSH\\\\\n",
       "\t ROC AUC   & 0.9493432 & RUSH\\\\\n",
       "\\end{tabular}\n"
      ],
      "text/markdown": [
       "\n",
       "A data.frame: 4 × 3\n",
       "\n",
       "| Metric &lt;chr&gt; | Value &lt;dbl&gt; | SiteName &lt;chr&gt; |\n",
       "|---|---|---|\n",
       "| Accuracy  | 0.9549692 | RUSH |\n",
       "| Recall    | 0.4254346 | RUSH |\n",
       "| Precision | 0.9412955 | RUSH |\n",
       "| ROC AUC   | 0.9493432 | RUSH |\n",
       "\n"
      ],
      "text/plain": [
       "  Metric    Value     SiteName\n",
       "1 Accuracy  0.9549692 RUSH    \n",
       "2 Recall    0.4254346 RUSH    \n",
       "3 Precision 0.9412955 RUSH    \n",
       "4 ROC AUC   0.9493432 RUSH    "
      ]
     },
     "metadata": {},
     "output_type": "display_data"
    }
   ],
   "source": [
    "# Predict probabilities and binary predictions\n",
    "predicted_probabilities <- predict(model, X_test)\n",
    "predicted_classes <- as.integer(predicted_probabilities >= 0.5)\n",
    "\n",
    "# Generate a confusion matrix\n",
    "conf_matrix <- confusionMatrix(as.factor(predicted_classes), as.factor(y_test))\n",
    "\n",
    "# Extract metrics\n",
    "accuracy <- conf_matrix$overall['Accuracy']\n",
    "roc_auc <- pROC::auc(pROC::roc(y_test, predicted_probabilities))\n",
    "\n",
    "# Calculate metrics for each threshold\n",
    "predicted_positive <- predict(model, X_test) >= 0.5\n",
    "actual_positive <- icu_data$isdeathdispo == 1\n",
    "actual_negative <- icu_data$isdeathdispo == 0\n",
    "\n",
    "tp <- sum(predicted_positive & actual_positive, na.rm = TRUE)\n",
    "fp <- sum(predicted_positive & actual_negative, na.rm = TRUE)\n",
    "fn <- sum(!predicted_positive & actual_positive, na.rm = TRUE)\n",
    "tn <- sum(!predicted_positive & actual_negative, na.rm = TRUE)\n",
    "\n",
    "recall <- ifelse((tp + fn) > 0, tp / (tp + fn), 0)\n",
    "\n",
    "precision <- ifelse((tp + fp) > 0, tp / (tp + fp), 0)\n",
    "\n",
    "\n",
    "Metric = c('Accuracy', 'Recall', 'Precision', 'ROC AUC')\n",
    "Value = c(accuracy, recall, precision, roc_auc)\n",
    "SiteName = rep(site,4)  # Change 7 to the number of metrics\n",
    "\n",
    "# Create a data frame to store the results\n",
    "results_metric <- data.frame(\n",
    "  Metric ,\n",
    "  Value ,\n",
    "  SiteName \n",
    ")\n",
    "\n",
    "# Export to CSV\n",
    "write.csv(results_metric, sprintf(\"output/result_metrics_%s.csv\", site), row.names = FALSE)\n",
    "\n",
    "# Print the results\n",
    "results_metric"
   ]
  },
  {
   "cell_type": "markdown",
   "metadata": {},
   "source": [
    "#### model fairness test accross 'race', 'ethnicity', 'sex'"
   ]
  },
  {
   "cell_type": "code",
   "execution_count": 16,
   "metadata": {
    "vscode": {
     "languageId": "r"
    }
   },
   "outputs": [
    {
     "name": "stderr",
     "output_type": "stream",
     "text": [
      "Warning message:\n",
      "\"\u001b[1m\u001b[22mUse of .data in tidyselect expressions was deprecated in tidyselect 1.2.0.\n",
      "\u001b[36mi\u001b[39m Please use `all_of(var)` (or `any_of(var)`) instead of `.data[[var]]`\"\n"
     ]
    },
    {
     "data": {
      "text/html": [
       "<table class=\"dataframe\">\n",
       "<caption>A data.frame: 9 × 7</caption>\n",
       "<thead>\n",
       "\t<tr><th scope=col>Subgroup</th><th scope=col>Group</th><th scope=col>AUC</th><th scope=col>PPV</th><th scope=col>GroupCount</th><th scope=col>TotalCount</th><th scope=col>Proportion</th></tr>\n",
       "\t<tr><th scope=col>&lt;chr&gt;</th><th scope=col>&lt;chr&gt;</th><th scope=col>&lt;dbl&gt;</th><th scope=col>&lt;dbl&gt;</th><th scope=col>&lt;int&gt;</th><th scope=col>&lt;int&gt;</th><th scope=col>&lt;dbl&gt;</th></tr>\n",
       "</thead>\n",
       "<tbody>\n",
       "\t<tr><td>race     </td><td>Black                 </td><td>0.9510312</td><td>0.9275362</td><td> 5759</td><td>14590</td><td>0.39472241</td></tr>\n",
       "\t<tr><td>race     </td><td>White                 </td><td>0.9423131</td><td>0.9590643</td><td> 5618</td><td>14590</td><td>0.38505826</td></tr>\n",
       "\t<tr><td>race     </td><td>Others                </td><td>0.9559722</td><td>0.9500000</td><td> 2728</td><td>14590</td><td>0.18697738</td></tr>\n",
       "\t<tr><td>race     </td><td>Asian                 </td><td>0.9530647</td><td>0.8750000</td><td>  485</td><td>14590</td><td>0.03324195</td></tr>\n",
       "\t<tr><td>ethnicity</td><td>Not Hispanic or Latino</td><td>0.9493640</td><td>0.9434447</td><td>11615</td><td>14590</td><td>0.79609321</td></tr>\n",
       "\t<tr><td>ethnicity</td><td>Hispanic or Latino    </td><td>0.9485513</td><td>0.9368421</td><td> 2875</td><td>14590</td><td>0.19705278</td></tr>\n",
       "\t<tr><td>ethnicity</td><td>Others                </td><td>0.9251559</td><td>0.9000000</td><td>  100</td><td>14590</td><td>0.00685401</td></tr>\n",
       "\t<tr><td>sex      </td><td>Male                  </td><td>0.9461929</td><td>0.9427481</td><td> 7773</td><td>14590</td><td>0.53276217</td></tr>\n",
       "\t<tr><td>sex      </td><td>Female                </td><td>0.9529765</td><td>0.9396552</td><td> 6817</td><td>14590</td><td>0.46723783</td></tr>\n",
       "</tbody>\n",
       "</table>\n"
      ],
      "text/latex": [
       "A data.frame: 9 × 7\n",
       "\\begin{tabular}{lllllll}\n",
       " Subgroup & Group & AUC & PPV & GroupCount & TotalCount & Proportion\\\\\n",
       " <chr> & <chr> & <dbl> & <dbl> & <int> & <int> & <dbl>\\\\\n",
       "\\hline\n",
       "\t race      & Black                  & 0.9510312 & 0.9275362 &  5759 & 14590 & 0.39472241\\\\\n",
       "\t race      & White                  & 0.9423131 & 0.9590643 &  5618 & 14590 & 0.38505826\\\\\n",
       "\t race      & Others                 & 0.9559722 & 0.9500000 &  2728 & 14590 & 0.18697738\\\\\n",
       "\t race      & Asian                  & 0.9530647 & 0.8750000 &   485 & 14590 & 0.03324195\\\\\n",
       "\t ethnicity & Not Hispanic or Latino & 0.9493640 & 0.9434447 & 11615 & 14590 & 0.79609321\\\\\n",
       "\t ethnicity & Hispanic or Latino     & 0.9485513 & 0.9368421 &  2875 & 14590 & 0.19705278\\\\\n",
       "\t ethnicity & Others                 & 0.9251559 & 0.9000000 &   100 & 14590 & 0.00685401\\\\\n",
       "\t sex       & Male                   & 0.9461929 & 0.9427481 &  7773 & 14590 & 0.53276217\\\\\n",
       "\t sex       & Female                 & 0.9529765 & 0.9396552 &  6817 & 14590 & 0.46723783\\\\\n",
       "\\end{tabular}\n"
      ],
      "text/markdown": [
       "\n",
       "A data.frame: 9 × 7\n",
       "\n",
       "| Subgroup &lt;chr&gt; | Group &lt;chr&gt; | AUC &lt;dbl&gt; | PPV &lt;dbl&gt; | GroupCount &lt;int&gt; | TotalCount &lt;int&gt; | Proportion &lt;dbl&gt; |\n",
       "|---|---|---|---|---|---|---|\n",
       "| race      | Black                  | 0.9510312 | 0.9275362 |  5759 | 14590 | 0.39472241 |\n",
       "| race      | White                  | 0.9423131 | 0.9590643 |  5618 | 14590 | 0.38505826 |\n",
       "| race      | Others                 | 0.9559722 | 0.9500000 |  2728 | 14590 | 0.18697738 |\n",
       "| race      | Asian                  | 0.9530647 | 0.8750000 |   485 | 14590 | 0.03324195 |\n",
       "| ethnicity | Not Hispanic or Latino | 0.9493640 | 0.9434447 | 11615 | 14590 | 0.79609321 |\n",
       "| ethnicity | Hispanic or Latino     | 0.9485513 | 0.9368421 |  2875 | 14590 | 0.19705278 |\n",
       "| ethnicity | Others                 | 0.9251559 | 0.9000000 |   100 | 14590 | 0.00685401 |\n",
       "| sex       | Male                   | 0.9461929 | 0.9427481 |  7773 | 14590 | 0.53276217 |\n",
       "| sex       | Female                 | 0.9529765 | 0.9396552 |  6817 | 14590 | 0.46723783 |\n",
       "\n"
      ],
      "text/plain": [
       "  Subgroup  Group                  AUC       PPV       GroupCount TotalCount\n",
       "1 race      Black                  0.9510312 0.9275362  5759      14590     \n",
       "2 race      White                  0.9423131 0.9590643  5618      14590     \n",
       "3 race      Others                 0.9559722 0.9500000  2728      14590     \n",
       "4 race      Asian                  0.9530647 0.8750000   485      14590     \n",
       "5 ethnicity Not Hispanic or Latino 0.9493640 0.9434447 11615      14590     \n",
       "6 ethnicity Hispanic or Latino     0.9485513 0.9368421  2875      14590     \n",
       "7 ethnicity Others                 0.9251559 0.9000000   100      14590     \n",
       "8 sex       Male                   0.9461929 0.9427481  7773      14590     \n",
       "9 sex       Female                 0.9529765 0.9396552  6817      14590     \n",
       "  Proportion\n",
       "1 0.39472241\n",
       "2 0.38505826\n",
       "3 0.18697738\n",
       "4 0.03324195\n",
       "5 0.79609321\n",
       "6 0.19705278\n",
       "7 0.00685401\n",
       "8 0.53276217\n",
       "9 0.46723783"
      ]
     },
     "metadata": {},
     "output_type": "display_data"
    }
   ],
   "source": [
    "\n",
    "calculate_metrics <- function(data, true_col, pred_prob_col, subgroup_cols) {\n",
    "  results <- list()\n",
    "  total_count <- nrow(data)\n",
    "  \n",
    "  for (subgroup_col in subgroup_cols) {\n",
    "    # Filter out rows with NA in the current subgroup column\n",
    "    filtered_data <- data %>% filter(!is.na(.data[[subgroup_col]])) %>% drop_na(.data[[true_col]], .data[[pred_prob_col]])\n",
    "    \n",
    "    # Loop over unique groups in the subgroup column\n",
    "    for (group in unique(filtered_data[[subgroup_col]])) {\n",
    "      subgroup_data <- filtered_data %>% filter(.data[[subgroup_col]] == group)\n",
    "      group_count <- nrow(subgroup_data)\n",
    "      proportion <- group_count / total_count\n",
    "      \n",
    "      # Check if there are at least two distinct classes and no NA in predictor\n",
    "      if (length(unique(subgroup_data[[true_col]])) > 1 && sum(!is.na(subgroup_data[[pred_prob_col]])) == nrow(subgroup_data)) {\n",
    "        # Calculate AUC\n",
    "        pred <- prediction(subgroup_data[[pred_prob_col]], subgroup_data[[true_col]])\n",
    "        auc <- performance(pred, \"auc\")@y.values[[1]]\n",
    "        # Calculate confusion matrix\n",
    "        cm <- table(factor(subgroup_data[[true_col]], levels = c(0, 1)),\n",
    "                    factor(as.numeric(subgroup_data[[pred_prob_col]] > 0.5), levels = c(0, 1)))\n",
    "        tn <- cm[1, 1]\n",
    "        fp <- cm[1, 2]\n",
    "        fn <- cm[2, 1]\n",
    "        tp <- cm[2, 2]\n",
    "        ppv <- ifelse((tp + fp) != 0, tp / (tp + fp), 0)\n",
    "        \n",
    "        result <- list(Subgroup = subgroup_col, Group = group, AUC = auc, PPV = ppv,\n",
    "                       GroupCount = group_count, TotalCount = total_count, Proportion = proportion)\n",
    "      } else {\n",
    "        result <- list(Subgroup = subgroup_col, Group = group, AUC = 'Not defined', PPV = 'Not applicable',\n",
    "                       GroupCount = group_count, TotalCount = total_count, Proportion = proportion)\n",
    "      }\n",
    "      \n",
    "      results <- c(results, list(result))\n",
    "    }\n",
    "  }\n",
    "  \n",
    "  # Convert the list of results to a data frame\n",
    "  results_df <- do.call(rbind, lapply(results, as.data.frame))\n",
    "  return(results_df)\n",
    "}\n",
    "\n",
    "# Example usage\n",
    "result_df <- calculate_metrics(icu_data, 'isdeathdispo', 'pred_proba', c('race', 'ethnicity', 'sex'))\n",
    "\n",
    "write.csv(result_df, file = paste0(\"output/fairness_test_\", site, \".csv\"), row.names = FALSE)\n",
    "\n",
    "result_df"
   ]
  },
  {
   "cell_type": "markdown",
   "metadata": {},
   "source": [
    "### Site Wise thr analysis"
   ]
  },
  {
   "cell_type": "code",
   "execution_count": 17,
   "metadata": {
    "vscode": {
     "languageId": "r"
    }
   },
   "outputs": [],
   "source": [
    "top_n_percentile <- function(target_var, pred_proba, site_name) {\n",
    "  # Generating thresholds from 99% to 1%\n",
    "  thr_list <- seq(0.99, 0.01, by = -0.01)\n",
    "  results <- data.frame(N_Percentile = character(),\n",
    "                        Thr_Value = numeric(),\n",
    "                        TN = integer(),\n",
    "                        FP = integer(),\n",
    "                        FN = integer(),\n",
    "                        TP = integer(),\n",
    "                        Sensitivity = numeric(),\n",
    "                        Specificity = numeric(),\n",
    "                        PPV = numeric(),\n",
    "                        NPV = numeric(),\n",
    "                        Recall = numeric(),\n",
    "                        Accuracy = numeric(),\n",
    "                        Site_Name = character(),\n",
    "                        stringsAsFactors = FALSE)\n",
    "  \n",
    "  for (thr in thr_list) {\n",
    "    prob <- data.frame(target_var = target_var, pred_proba = pred_proba)\n",
    "    thr_value <- quantile(prob$pred_proba, thr)\n",
    "    prob$pred_proba_bin <- ifelse(prob$pred_proba >= thr_value, 1, 0)\n",
    "    \n",
    "    cm <- table(factor(prob$target_var, levels = c(0, 1)),\n",
    "                factor(prob$pred_proba_bin, levels = c(0, 1)))\n",
    "    tn <- cm[1, 1]\n",
    "    fp <- cm[1, 2]\n",
    "    fn <- cm[2, 1]\n",
    "    tp <- cm[2, 2]\n",
    "    \n",
    "    sensitivity <- tp / (tp + fn)\n",
    "    specificity <- tn / (tn + fp)\n",
    "    ppv <- tp / (tp + fp)\n",
    "    npv <- tn / (tn + fn)\n",
    "    recall <- tp / (tp + fn)\n",
    "    acc <- (tp + tn) / sum(cm)\n",
    "    n_prec <- paste0(\"Top \", round((1 - thr) * 100, 0), \"%\")\n",
    "    \n",
    "    # Define each row as a dataframe before appending\n",
    "    row <- data.frame(N_Percentile = n_prec,\n",
    "                      Thr_Value = thr_value,\n",
    "                      TN = tn,\n",
    "                      FP = fp,\n",
    "                      FN = fn,\n",
    "                      TP = tp,\n",
    "                      Sensitivity = sensitivity,\n",
    "                      Specificity = specificity,\n",
    "                      PPV = ppv,\n",
    "                      NPV = npv,\n",
    "                      Recall = recall,\n",
    "                      Accuracy = acc,\n",
    "                      Site_Name = site_name,\n",
    "                      stringsAsFactors = FALSE)\n",
    "    results <- rbind(results, row)\n",
    "  }\n",
    "  return(results)\n",
    "}\n",
    "\n",
    "# Usage example (you need to define y_test, y_pred_proba, and site_name)\n",
    "topn <- top_n_percentile(y_test, y_pred_proba, site)"
   ]
  },
  {
   "cell_type": "code",
   "execution_count": 18,
   "metadata": {
    "vscode": {
     "languageId": "r"
    }
   },
   "outputs": [
    {
     "data": {
      "text/html": [
       "<table class=\"dataframe\">\n",
       "<caption>A data.frame: 5 × 13</caption>\n",
       "<thead>\n",
       "\t<tr><th></th><th scope=col>N_Percentile</th><th scope=col>Thr_Value</th><th scope=col>TN</th><th scope=col>FP</th><th scope=col>FN</th><th scope=col>TP</th><th scope=col>Sensitivity</th><th scope=col>Specificity</th><th scope=col>PPV</th><th scope=col>NPV</th><th scope=col>Recall</th><th scope=col>Accuracy</th><th scope=col>Site_Name</th></tr>\n",
       "\t<tr><th></th><th scope=col>&lt;chr&gt;</th><th scope=col>&lt;dbl&gt;</th><th scope=col>&lt;int&gt;</th><th scope=col>&lt;int&gt;</th><th scope=col>&lt;int&gt;</th><th scope=col>&lt;int&gt;</th><th scope=col>&lt;dbl&gt;</th><th scope=col>&lt;dbl&gt;</th><th scope=col>&lt;dbl&gt;</th><th scope=col>&lt;dbl&gt;</th><th scope=col>&lt;dbl&gt;</th><th scope=col>&lt;dbl&gt;</th><th scope=col>&lt;chr&gt;</th></tr>\n",
       "</thead>\n",
       "<tbody>\n",
       "\t<tr><th scope=row>99%</th><td>Top 1%</td><td>0.7759070</td><td>13492</td><td> 5</td><td>952</td><td>141</td><td>0.1290027</td><td>0.9996295</td><td>0.9657534</td><td>0.9340903</td><td>0.1290027</td><td>0.9344071</td><td>RUSH</td></tr>\n",
       "\t<tr><th scope=row>98%</th><td>Top 2%</td><td>0.6470502</td><td>13490</td><td> 7</td><td>808</td><td>285</td><td>0.2607502</td><td>0.9994814</td><td>0.9760274</td><td>0.9434886</td><td>0.2607502</td><td>0.9441398</td><td>RUSH</td></tr>\n",
       "\t<tr><th scope=row>97%</th><td>Top 3%</td><td>0.5320883</td><td>13475</td><td>22</td><td>677</td><td>416</td><td>0.3806038</td><td>0.9983700</td><td>0.9497717</td><td>0.9521622</td><td>0.3806038</td><td>0.9520905</td><td>RUSH</td></tr>\n",
       "\t<tr><th scope=row>96%</th><td>Top 4%</td><td>0.4366049</td><td>13454</td><td>43</td><td>552</td><td>541</td><td>0.4949680</td><td>0.9968141</td><td>0.9263699</td><td>0.9605883</td><td>0.4949680</td><td>0.9592186</td><td>RUSH</td></tr>\n",
       "\t<tr><th scope=row>95%</th><td>Top 5%</td><td>0.3474814</td><td>13406</td><td>91</td><td>454</td><td>639</td><td>0.5846295</td><td>0.9932578</td><td>0.8753425</td><td>0.9672439</td><td>0.5846295</td><td>0.9626456</td><td>RUSH</td></tr>\n",
       "</tbody>\n",
       "</table>\n"
      ],
      "text/latex": [
       "A data.frame: 5 × 13\n",
       "\\begin{tabular}{r|lllllllllllll}\n",
       "  & N\\_Percentile & Thr\\_Value & TN & FP & FN & TP & Sensitivity & Specificity & PPV & NPV & Recall & Accuracy & Site\\_Name\\\\\n",
       "  & <chr> & <dbl> & <int> & <int> & <int> & <int> & <dbl> & <dbl> & <dbl> & <dbl> & <dbl> & <dbl> & <chr>\\\\\n",
       "\\hline\n",
       "\t99\\% & Top 1\\% & 0.7759070 & 13492 &  5 & 952 & 141 & 0.1290027 & 0.9996295 & 0.9657534 & 0.9340903 & 0.1290027 & 0.9344071 & RUSH\\\\\n",
       "\t98\\% & Top 2\\% & 0.6470502 & 13490 &  7 & 808 & 285 & 0.2607502 & 0.9994814 & 0.9760274 & 0.9434886 & 0.2607502 & 0.9441398 & RUSH\\\\\n",
       "\t97\\% & Top 3\\% & 0.5320883 & 13475 & 22 & 677 & 416 & 0.3806038 & 0.9983700 & 0.9497717 & 0.9521622 & 0.3806038 & 0.9520905 & RUSH\\\\\n",
       "\t96\\% & Top 4\\% & 0.4366049 & 13454 & 43 & 552 & 541 & 0.4949680 & 0.9968141 & 0.9263699 & 0.9605883 & 0.4949680 & 0.9592186 & RUSH\\\\\n",
       "\t95\\% & Top 5\\% & 0.3474814 & 13406 & 91 & 454 & 639 & 0.5846295 & 0.9932578 & 0.8753425 & 0.9672439 & 0.5846295 & 0.9626456 & RUSH\\\\\n",
       "\\end{tabular}\n"
      ],
      "text/markdown": [
       "\n",
       "A data.frame: 5 × 13\n",
       "\n",
       "| <!--/--> | N_Percentile &lt;chr&gt; | Thr_Value &lt;dbl&gt; | TN &lt;int&gt; | FP &lt;int&gt; | FN &lt;int&gt; | TP &lt;int&gt; | Sensitivity &lt;dbl&gt; | Specificity &lt;dbl&gt; | PPV &lt;dbl&gt; | NPV &lt;dbl&gt; | Recall &lt;dbl&gt; | Accuracy &lt;dbl&gt; | Site_Name &lt;chr&gt; |\n",
       "|---|---|---|---|---|---|---|---|---|---|---|---|---|---|\n",
       "| 99% | Top 1% | 0.7759070 | 13492 |  5 | 952 | 141 | 0.1290027 | 0.9996295 | 0.9657534 | 0.9340903 | 0.1290027 | 0.9344071 | RUSH |\n",
       "| 98% | Top 2% | 0.6470502 | 13490 |  7 | 808 | 285 | 0.2607502 | 0.9994814 | 0.9760274 | 0.9434886 | 0.2607502 | 0.9441398 | RUSH |\n",
       "| 97% | Top 3% | 0.5320883 | 13475 | 22 | 677 | 416 | 0.3806038 | 0.9983700 | 0.9497717 | 0.9521622 | 0.3806038 | 0.9520905 | RUSH |\n",
       "| 96% | Top 4% | 0.4366049 | 13454 | 43 | 552 | 541 | 0.4949680 | 0.9968141 | 0.9263699 | 0.9605883 | 0.4949680 | 0.9592186 | RUSH |\n",
       "| 95% | Top 5% | 0.3474814 | 13406 | 91 | 454 | 639 | 0.5846295 | 0.9932578 | 0.8753425 | 0.9672439 | 0.5846295 | 0.9626456 | RUSH |\n",
       "\n"
      ],
      "text/plain": [
       "    N_Percentile Thr_Value TN    FP FN  TP  Sensitivity Specificity PPV      \n",
       "99% Top 1%       0.7759070 13492  5 952 141 0.1290027   0.9996295   0.9657534\n",
       "98% Top 2%       0.6470502 13490  7 808 285 0.2607502   0.9994814   0.9760274\n",
       "97% Top 3%       0.5320883 13475 22 677 416 0.3806038   0.9983700   0.9497717\n",
       "96% Top 4%       0.4366049 13454 43 552 541 0.4949680   0.9968141   0.9263699\n",
       "95% Top 5%       0.3474814 13406 91 454 639 0.5846295   0.9932578   0.8753425\n",
       "    NPV       Recall    Accuracy  Site_Name\n",
       "99% 0.9340903 0.1290027 0.9344071 RUSH     \n",
       "98% 0.9434886 0.2607502 0.9441398 RUSH     \n",
       "97% 0.9521622 0.3806038 0.9520905 RUSH     \n",
       "96% 0.9605883 0.4949680 0.9592186 RUSH     \n",
       "95% 0.9672439 0.5846295 0.9626456 RUSH     "
      ]
     },
     "metadata": {},
     "output_type": "display_data"
    }
   ],
   "source": [
    "\n",
    "write.csv(topn, file =  paste0(\"output/Top_N_percentile_PPV_\", site, \".csv\"), row.names = FALSE)\n",
    "head(topn,5)\n"
   ]
  }
 ],
 "metadata": {
  "kernelspec": {
   "display_name": "R",
   "language": "R",
   "name": "ir"
  },
  "language_info": {
   "codemirror_mode": "r",
   "file_extension": ".r",
   "mimetype": "text/x-r-source",
   "name": "R",
   "pygments_lexer": "r",
   "version": "4.1.3"
  }
 },
 "nbformat": 4,
 "nbformat_minor": 2
}
