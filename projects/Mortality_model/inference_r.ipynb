{
 "cells": [
  {
   "cell_type": "code",
   "execution_count": 1,
   "metadata": {
    "vscode": {
     "languageId": "r"
    }
   },
   "outputs": [
    {
     "name": "stderr",
     "output_type": "stream",
     "text": [
      "Loading required package: duckdb\n",
      "\n",
      "Loading required package: DBI\n",
      "\n"
     ]
    },
    {
     "name": "stderr",
     "output_type": "stream",
     "text": [
      "Loading required package: lubridate\n",
      "\n",
      "\n",
      "Attaching package: 'lubridate'\n",
      "\n",
      "\n",
      "The following objects are masked from 'package:base':\n",
      "\n",
      "    date, intersect, setdiff, union\n",
      "\n",
      "\n",
      "Loading required package: tidyverse\n",
      "\n",
      "-- \u001b[1mAttaching packages\u001b[22m --------------------------------------- tidyverse 1.3.2 --\n",
      "\u001b[32mv\u001b[39m \u001b[34mggplot2\u001b[39m 3.4.2     \u001b[32mv\u001b[39m \u001b[34mpurrr  \u001b[39m 1.0.2\n",
      "\u001b[32mv\u001b[39m \u001b[34mtibble \u001b[39m 3.2.1     \u001b[32mv\u001b[39m \u001b[34mdplyr  \u001b[39m 1.1.4\n",
      "\u001b[32mv\u001b[39m \u001b[34mtidyr  \u001b[39m 1.3.1     \u001b[32mv\u001b[39m \u001b[34mstringr\u001b[39m 1.5.0\n",
      "\u001b[32mv\u001b[39m \u001b[34mreadr  \u001b[39m 2.1.5     \u001b[32mv\u001b[39m \u001b[34mforcats\u001b[39m 1.0.0\n",
      "-- \u001b[1mConflicts\u001b[22m ------------------------------------------ tidyverse_conflicts() --\n",
      "\u001b[31mx\u001b[39m \u001b[34mlubridate\u001b[39m::\u001b[32mas.difftime()\u001b[39m masks \u001b[34mbase\u001b[39m::as.difftime()\n",
      "\u001b[31mx\u001b[39m \u001b[34mlubridate\u001b[39m::\u001b[32mdate()\u001b[39m        masks \u001b[34mbase\u001b[39m::date()\n",
      "\u001b[31mx\u001b[39m \u001b[34mdplyr\u001b[39m::\u001b[32mfilter()\u001b[39m          masks \u001b[34mstats\u001b[39m::filter()\n",
      "\u001b[31mx\u001b[39m \u001b[34mlubridate\u001b[39m::\u001b[32mintersect()\u001b[39m   masks \u001b[34mbase\u001b[39m::intersect()\n",
      "\u001b[31mx\u001b[39m \u001b[34mdplyr\u001b[39m::\u001b[32mlag()\u001b[39m             masks \u001b[34mstats\u001b[39m::lag()\n",
      "\u001b[31mx\u001b[39m \u001b[34mlubridate\u001b[39m::\u001b[32msetdiff()\u001b[39m     masks \u001b[34mbase\u001b[39m::setdiff()\n",
      "\u001b[31mx\u001b[39m \u001b[34mlubridate\u001b[39m::\u001b[32munion()\u001b[39m       masks \u001b[34mbase\u001b[39m::union()\n",
      "Loading required package: arrow\n",
      "\n",
      "\n",
      "Attaching package: 'arrow'\n",
      "\n",
      "\n",
      "The following object is masked from 'package:lubridate':\n",
      "\n",
      "    duration\n",
      "\n",
      "\n",
      "The following object is masked from 'package:utils':\n",
      "\n",
      "    timestamp\n",
      "\n",
      "\n",
      "Loading required package: fst\n",
      "\n",
      "Loading required package: lightgbm\n",
      "\n",
      "Loading required package: R6\n",
      "\n",
      "\n",
      "Attaching package: 'lightgbm'\n",
      "\n",
      "\n",
      "The following object is masked from 'package:dplyr':\n",
      "\n",
      "    slice\n",
      "\n",
      "\n",
      "Loading required package: caret\n",
      "\n",
      "Loading required package: lattice\n",
      "\n",
      "\n",
      "Attaching package: 'caret'\n",
      "\n",
      "\n",
      "The following object is masked from 'package:purrr':\n",
      "\n",
      "    lift\n",
      "\n",
      "\n",
      "Loading required package: Metrics\n",
      "\n",
      "\n",
      "Attaching package: 'Metrics'\n",
      "\n",
      "\n",
      "The following objects are masked from 'package:caret':\n",
      "\n",
      "    precision, recall\n",
      "\n",
      "\n",
      "Loading required package: ROCR\n",
      "\n",
      "Loading required package: pROC\n",
      "\n",
      "Type 'citation(\"pROC\")' for a citation.\n",
      "\n",
      "\n",
      "Attaching package: 'pROC'\n",
      "\n",
      "\n",
      "The following object is masked from 'package:Metrics':\n",
      "\n",
      "    auc\n",
      "\n",
      "\n",
      "The following objects are masked from 'package:stats':\n",
      "\n",
      "    cov, smooth, var\n",
      "\n",
      "\n"
     ]
    },
    {
     "data": {
      "text/html": [
       "<dl>\n",
       "\t<dt>$duckdb</dt>\n",
       "\t\t<dd>NULL</dd>\n",
       "\t<dt>$lubridate</dt>\n",
       "\t\t<dd>NULL</dd>\n",
       "\t<dt>$tidyverse</dt>\n",
       "\t\t<dd>NULL</dd>\n",
       "\t<dt>$dplyr</dt>\n",
       "\t\t<dd>NULL</dd>\n",
       "\t<dt>$readr</dt>\n",
       "\t\t<dd>NULL</dd>\n",
       "\t<dt>$arrow</dt>\n",
       "\t\t<dd>NULL</dd>\n",
       "\t<dt>$fst</dt>\n",
       "\t\t<dd>NULL</dd>\n",
       "\t<dt>$lightgbm</dt>\n",
       "\t\t<dd>NULL</dd>\n",
       "\t<dt>$caret</dt>\n",
       "\t\t<dd>NULL</dd>\n",
       "\t<dt>$Metrics</dt>\n",
       "\t\t<dd>NULL</dd>\n",
       "\t<dt>$ROCR</dt>\n",
       "\t\t<dd>NULL</dd>\n",
       "\t<dt>$pROC</dt>\n",
       "\t\t<dd>NULL</dd>\n",
       "</dl>\n"
      ],
      "text/latex": [
       "\\begin{description}\n",
       "\\item[\\$duckdb] NULL\n",
       "\\item[\\$lubridate] NULL\n",
       "\\item[\\$tidyverse] NULL\n",
       "\\item[\\$dplyr] NULL\n",
       "\\item[\\$readr] NULL\n",
       "\\item[\\$arrow] NULL\n",
       "\\item[\\$fst] NULL\n",
       "\\item[\\$lightgbm] NULL\n",
       "\\item[\\$caret] NULL\n",
       "\\item[\\$Metrics] NULL\n",
       "\\item[\\$ROCR] NULL\n",
       "\\item[\\$pROC] NULL\n",
       "\\end{description}\n"
      ],
      "text/markdown": [
       "$duckdb\n",
       ":   NULL\n",
       "$lubridate\n",
       ":   NULL\n",
       "$tidyverse\n",
       ":   NULL\n",
       "$dplyr\n",
       ":   NULL\n",
       "$readr\n",
       ":   NULL\n",
       "$arrow\n",
       ":   NULL\n",
       "$fst\n",
       ":   NULL\n",
       "$lightgbm\n",
       ":   NULL\n",
       "$caret\n",
       ":   NULL\n",
       "$Metrics\n",
       ":   NULL\n",
       "$ROCR\n",
       ":   NULL\n",
       "$pROC\n",
       ":   NULL\n",
       "\n",
       "\n"
      ],
      "text/plain": [
       "$duckdb\n",
       "NULL\n",
       "\n",
       "$lubridate\n",
       "NULL\n",
       "\n",
       "$tidyverse\n",
       "NULL\n",
       "\n",
       "$dplyr\n",
       "NULL\n",
       "\n",
       "$readr\n",
       "NULL\n",
       "\n",
       "$arrow\n",
       "NULL\n",
       "\n",
       "$fst\n",
       "NULL\n",
       "\n",
       "$lightgbm\n",
       "NULL\n",
       "\n",
       "$caret\n",
       "NULL\n",
       "\n",
       "$Metrics\n",
       "NULL\n",
       "\n",
       "$ROCR\n",
       "NULL\n",
       "\n",
       "$pROC\n",
       "NULL\n"
      ]
     },
     "metadata": {},
     "output_type": "display_data"
    }
   ],
   "source": [
    "packages <- c(\"duckdb\", \"lubridate\", \"tidyverse\", \"dplyr\", \"readr\", \"arrow\", \"fst\", \"lightgbm\", \"caret\", \"Metrics\", \"ROCR\", \"pROC\")\n",
    "\n",
    "install_if_missing <- function(package) {\n",
    "  if (!require(package, character.only = TRUE)) {\n",
    "    install.packages(package, dependencies = TRUE)\n",
    "    library(package, character.only = TRUE)\n",
    "  }\n",
    "}\n",
    "\n",
    "sapply(packages, install_if_missing)\n",
    "\n",
    "con <- duckdb::dbConnect(duckdb::duckdb(), dbdir = \":memory:\")\n"
   ]
  },
  {
   "cell_type": "code",
   "execution_count": 2,
   "metadata": {
    "vscode": {
     "languageId": "r"
    }
   },
   "outputs": [],
   "source": [
    "tables_location <- \"C:/Users/vchaudha/OneDrive - rush.edu/CLIF-1.0-main\" \n",
    "site <-'RUSH'\n",
    "file_type <- '.csv'\n",
    "\n",
    "# Check if the output directory exists; if not, create it\n",
    "if (!dir.exists(\"output\")) {\n",
    "  dir.create(\"output\")\n",
    "}\n",
    "\n",
    "read_data <- function(file_path) {\n",
    "  if (grepl(\"\\\\.csv$\", file_path)) {\n",
    "    return(read.csv(file_path))\n",
    "  } else if (grepl(\"\\\\.parquet$\", file_path)) {\n",
    "    return(arrow::read_parquet(file_path))\n",
    "  } else if (grepl(\"\\\\.fst$\", file_path)) {\n",
    "    return(fst::read.fst(file_path))\n",
    "  } else {\n",
    "    stop(\"Unsupported file format\")\n",
    "  }\n",
    "}\n",
    "\n",
    "# Read data using the function and assign to variables\n",
    "location <- read_data(paste0(tables_location, \"/rclif/clif_adt\", file_type))\n",
    "encounter <- read_data(paste0(tables_location, \"/rclif/clif_encounter_demographics_dispo\", file_type))\n",
    "limited <- read_data(paste0(tables_location, \"/rclif/clif_limited_identifiers\", file_type))\n",
    "demog <- read_data(paste0(tables_location, \"/rclif/clif_patient_demographics\", file_type))\n"
   ]
  },
  {
   "cell_type": "code",
   "execution_count": 3,
   "metadata": {
    "vscode": {
     "languageId": "r"
    }
   },
   "outputs": [
    {
     "data": {
      "text/html": [
       "<table class=\"dataframe\">\n",
       "<caption>A matrix: 2 × 6 of type dbl</caption>\n",
       "<thead>\n",
       "\t<tr><th></th><th scope=col>used</th><th scope=col>(Mb)</th><th scope=col>gc trigger</th><th scope=col>(Mb)</th><th scope=col>max used</th><th scope=col>(Mb)</th></tr>\n",
       "</thead>\n",
       "<tbody>\n",
       "\t<tr><th scope=row>Ncells</th><td> 3542223</td><td>189.2</td><td> 6846167</td><td>365.7</td><td> 6846167</td><td>365.7</td></tr>\n",
       "\t<tr><th scope=row>Vcells</th><td>22938732</td><td>175.1</td><td>45498891</td><td>347.2</td><td>45498888</td><td>347.2</td></tr>\n",
       "</tbody>\n",
       "</table>\n"
      ],
      "text/latex": [
       "A matrix: 2 × 6 of type dbl\n",
       "\\begin{tabular}{r|llllll}\n",
       "  & used & (Mb) & gc trigger & (Mb) & max used & (Mb)\\\\\n",
       "\\hline\n",
       "\tNcells &  3542223 & 189.2 &  6846167 & 365.7 &  6846167 & 365.7\\\\\n",
       "\tVcells & 22938732 & 175.1 & 45498891 & 347.2 & 45498888 & 347.2\\\\\n",
       "\\end{tabular}\n"
      ],
      "text/markdown": [
       "\n",
       "A matrix: 2 × 6 of type dbl\n",
       "\n",
       "| <!--/--> | used | (Mb) | gc trigger | (Mb) | max used | (Mb) |\n",
       "|---|---|---|---|---|---|---|\n",
       "| Ncells |  3542223 | 189.2 |  6846167 | 365.7 |  6846167 | 365.7 |\n",
       "| Vcells | 22938732 | 175.1 | 45498891 | 347.2 | 45498888 | 347.2 |\n",
       "\n"
      ],
      "text/plain": [
       "       used     (Mb)  gc trigger (Mb)  max used (Mb) \n",
       "Ncells  3542223 189.2  6846167   365.7  6846167 365.7\n",
       "Vcells 22938732 175.1 45498891   347.2 45498888 347.2"
      ]
     },
     "metadata": {},
     "output_type": "display_data"
    }
   ],
   "source": [
    "# First join operation\n",
    "join <- location %>%\n",
    "  select(encounter_id, location_category, in_dttm, out_dttm) %>%\n",
    "  left_join(limited %>% select(encounter_id, admission_dttm), by = \"encounter_id\")\n",
    "\n",
    "# Second join operation to get 'icu_data'\n",
    "icu_data <- join %>%\n",
    "  left_join(encounter %>% select(encounter_id, age_at_admission, disposition), by = \"encounter_id\") %>%\n",
    "  mutate(\n",
    "    admission_dttm = ymd_hms(admission_dttm), # Convert to POSIXct, adjust the function as per your date format\n",
    "    in_dttm = ymd_hms(in_dttm) # Convert to POSIXct, adjust the function as per your date format\n",
    "  )\n",
    "\n",
    "# Filter rows where location is ICU and in_dttm is within 48 hours of admission_dttm\n",
    "\n",
    "icu_48hr_check <- icu_data %>%\n",
    "  filter(location_category == \"ICU\",\n",
    "         in_dttm >= admission_dttm,\n",
    "         in_dttm <= admission_dttm + lubridate::hours(48),\n",
    "         lubridate::year(in_dttm) >= 2020,\n",
    "         lubridate::year(in_dttm) <= 2022,\n",
    "         age_at_admission >= 18,\n",
    "         !is.na(age_at_admission)) %>%\n",
    "  distinct(encounter_id) %>%\n",
    "  pull(encounter_id)\n",
    "  \n",
    "# Filter icu_data to only include rows with encounter_ids in icu_48hr_check and within 72 hours of admission\n",
    "icu_data <- icu_data %>%\n",
    "  filter(encounter_id %in% icu_48hr_check,\n",
    "         in_dttm <= admission_dttm + hours(72)) %>%\n",
    "  arrange(in_dttm) %>%\n",
    "  mutate(RANK = rank(in_dttm, ties.method = \"first\")) %>%\n",
    "  arrange(encounter_id, in_dttm) %>%\n",
    "  group_by(encounter_id) %>%\n",
    "  mutate(RANK = rank(in_dttm, ties.method = \"first\"))\n",
    "\n",
    "  # Compute minimum rank for ICU locations\n",
    "min_icu <- icu_data %>%\n",
    "  filter(location_category == \"ICU\") %>%\n",
    "  group_by(encounter_id) %>%\n",
    "  summarize(min_icu = min(RANK))\n",
    "\n",
    "# Merge the minimum ICU rank back into the original dataset\n",
    "icu_data <- icu_data %>%\n",
    "  left_join(min_icu, by = \"encounter_id\")\n",
    "\n",
    "# Filter based on rank being at least the minimum ICU rank\n",
    "icu_data <- icu_data %>%\n",
    "  filter(RANK >= min_icu) %>%\n",
    "  arrange(in_dttm)\n",
    "\n",
    "# Change 'OR' to 'ICU' in location_category\n",
    "icu_data <- icu_data %>%\n",
    "  mutate(location_category = ifelse(location_category == \"OR\", \"ICU\", location_category))\n",
    "\n",
    "# Create a new group_id based on changes in location_category\n",
    "icu_data <- icu_data %>%\n",
    "  group_by(encounter_id) %>%\n",
    "  mutate(group_id = cumsum(location_category != lag(location_category, default = first(location_category)))) %>%\n",
    "  ungroup()\n",
    "\n",
    "icu_data <- icu_data %>%\n",
    "  group_by(encounter_id, location_category, group_id) %>%\n",
    "  summarize(\n",
    "    min_in_dttm = min(in_dttm),\n",
    "    max_out_dttm = max(out_dttm),\n",
    "    admission_dttm = first(admission_dttm),\n",
    "    age = first(age_at_admission),\n",
    "    dispo = first(disposition),\n",
    "    .groups = 'drop'\n",
    "  )\n",
    "\n",
    "# Compute minimum group_id for each encounter_id where location_category is 'ICU'\n",
    "min_icu <- icu_data %>%\n",
    "  filter(location_category == \"ICU\") %>%\n",
    "  group_by(encounter_id) %>%\n",
    "  summarize(min_icu = min(group_id), .groups = 'drop')\n",
    "\n",
    "# Merge the minimum ICU group_id back into the original dataset\n",
    "icu_data <- left_join(icu_data, min_icu, by = \"encounter_id\")\n",
    "\n",
    "# Filter based on group_id matching min_icu and duration condition\n",
    "icu_data <- icu_data %>%\n",
    "  filter(min_icu == group_id,\n",
    "         interval(min_in_dttm, max_out_dttm) >= dhours(24)) %>%\n",
    "  arrange(min_in_dttm)\n",
    "\n",
    "  # Add 24 hours to the 'min_in_dttm' column\n",
    "icu_data <- icu_data %>%\n",
    "  mutate(after_24hr = min_in_dttm + hours(24))\n",
    "\n",
    "# Select specific columns\n",
    "icu_data <- icu_data %>%\n",
    "  select(encounter_id, min_in_dttm, after_24hr, age, dispo)\n",
    "\n",
    "# Merge with demographic data and select specific columns\n",
    "icu_data <- icu_data %>%\n",
    "  left_join(demog, by = \"encounter_id\") %>%\n",
    "  select(encounter_id, min_in_dttm, after_24hr, age, dispo, sex, ethnicity, race)\n",
    "\n",
    "# Remove rows with missing 'sex' and create new variables\n",
    "icu_data <- icu_data %>%\n",
    "  filter(!is.na(sex)) %>%\n",
    "  mutate(\n",
    "    isfemale = as.integer(tolower(sex) == \"female\"),\n",
    "    isdeathdispo = as.integer(grepl(\"dead|expired\", dispo, ignore.case = TRUE))\n",
    "  )\n",
    "\n",
    "# Define race and ethnicity mappings using case_when\n",
    "icu_data <- icu_data %>%\n",
    "  mutate(\n",
    "    race = case_when(\n",
    "      race == \"White\" ~ \"White\",\n",
    "      race == \"Black or African American\" ~ \"Black\",\n",
    "      race == \"Asian\" ~ \"Asian\",\n",
    "      race %in% c(\"Other\", \"Unknown\", \"Did Not Encounter\", \"Refusal\", \n",
    "                  \"American Indian or Alaska Native\", \n",
    "                  \"Native Hawaiian or Other Pacific Islander\") ~ \"Others\",\n",
    "      TRUE ~ \"Others\"  # Default case for NA and any other unexpected values\n",
    "    ),\n",
    "    ethnicity = case_when(\n",
    "      ethnicity == \"Not Hispanic or Latino\" ~ \"Not Hispanic or Latino\",\n",
    "      ethnicity == \"Hispanic or Latino\" ~ \"Hispanic or Latino\",\n",
    "      ethnicity %in% c(\"Did Not Encounter\", \"Refusal\", \"*Unspecified\") ~ \"Others\",\n",
    "      TRUE ~ \"Others\"  # Default case for NA and any other unexpected values\n",
    "    )\n",
    "  )\n",
    "\n",
    "rm( encounter, limited, demog)\n",
    "gc()  # invokes garbage collection"
   ]
  },
  {
   "cell_type": "markdown",
   "metadata": {},
   "source": [
    "### vitals"
   ]
  },
  {
   "cell_type": "code",
   "execution_count": 4,
   "metadata": {
    "vscode": {
     "languageId": "r"
    }
   },
   "outputs": [],
   "source": [
    "vitals <- read_data(paste0(tables_location, \"/rclif/clif_vitals\", file_type))\n",
    "duckdb_register(con, \"vitals\", vitals)\n",
    "duckdb_register(con, \"icu_data\", icu_data)"
   ]
  },
  {
   "cell_type": "code",
   "execution_count": 5,
   "metadata": {
    "vscode": {
     "languageId": "r"
    }
   },
   "outputs": [],
   "source": [
    "vitals <- dbGetQuery(con, \"SELECT \n",
    "        encounter_id,\n",
    "        CAST(recorded_dttm AS datetime) AS recorded_dttm,\n",
    "        CAST(vital_value AS float) AS vital_value,\n",
    "        vital_category \n",
    "    FROM \n",
    "        vitals\n",
    "    WHERE \n",
    "        vital_category IN ('weight_kg', 'pulse', 'sbp', 'dbp', 'temp_c','height_inches') \n",
    "        AND encounter_id IN (SELECT DISTINCT encounter_id FROM icu_data);\")\n",
    "duckdb_unregister(con, \"vitals\")       "
   ]
  },
  {
   "cell_type": "code",
   "execution_count": 6,
   "metadata": {
    "vscode": {
     "languageId": "r"
    }
   },
   "outputs": [
    {
     "data": {
      "text/html": [
       "<table class=\"dataframe\">\n",
       "<caption>A matrix: 2 × 6 of type dbl</caption>\n",
       "<thead>\n",
       "\t<tr><th></th><th scope=col>used</th><th scope=col>(Mb)</th><th scope=col>gc trigger</th><th scope=col>(Mb)</th><th scope=col>max used</th><th scope=col>(Mb)</th></tr>\n",
       "</thead>\n",
       "<tbody>\n",
       "\t<tr><th scope=row>Ncells</th><td> 3553690</td><td>189.8</td><td> 35543304</td><td>1898.3</td><td>  44429130</td><td>2372.8</td></tr>\n",
       "\t<tr><th scope=row>Vcells</th><td>45960102</td><td>350.7</td><td>416187623</td><td>3175.3</td><td>1015646742</td><td>7748.8</td></tr>\n",
       "</tbody>\n",
       "</table>\n"
      ],
      "text/latex": [
       "A matrix: 2 × 6 of type dbl\n",
       "\\begin{tabular}{r|llllll}\n",
       "  & used & (Mb) & gc trigger & (Mb) & max used & (Mb)\\\\\n",
       "\\hline\n",
       "\tNcells &  3553690 & 189.8 &  35543304 & 1898.3 &   44429130 & 2372.8\\\\\n",
       "\tVcells & 45960102 & 350.7 & 416187623 & 3175.3 & 1015646742 & 7748.8\\\\\n",
       "\\end{tabular}\n"
      ],
      "text/markdown": [
       "\n",
       "A matrix: 2 × 6 of type dbl\n",
       "\n",
       "| <!--/--> | used | (Mb) | gc trigger | (Mb) | max used | (Mb) |\n",
       "|---|---|---|---|---|---|---|\n",
       "| Ncells |  3553690 | 189.8 |  35543304 | 1898.3 |   44429130 | 2372.8 |\n",
       "| Vcells | 45960102 | 350.7 | 416187623 | 3175.3 | 1015646742 | 7748.8 |\n",
       "\n"
      ],
      "text/plain": [
       "       used     (Mb)  gc trigger (Mb)   max used   (Mb)  \n",
       "Ncells  3553690 189.8  35543304  1898.3   44429130 2372.8\n",
       "Vcells 45960102 350.7 416187623  3175.3 1015646742 7748.8"
      ]
     },
     "metadata": {},
     "output_type": "display_data"
    }
   ],
   "source": [
    "pivoted_data <- vitals %>%\n",
    "  group_by(encounter_id, recorded_dttm, vital_category) %>%\n",
    "  summarise(first_vital_value = first(vital_value), .groups = 'drop') %>%\n",
    "  pivot_wider(\n",
    "    names_from = vital_category,\n",
    "    values_from = first_vital_value\n",
    "  ) %>%  as.data.frame\n",
    "\n",
    "rm(vitals)\n",
    "gc()  # invokes garbage collection"
   ]
  },
  {
   "cell_type": "code",
   "execution_count": 7,
   "metadata": {
    "vscode": {
     "languageId": "r"
    }
   },
   "outputs": [
    {
     "data": {
      "text/html": [
       "<table class=\"dataframe\">\n",
       "<caption>A matrix: 2 × 6 of type dbl</caption>\n",
       "<thead>\n",
       "\t<tr><th></th><th scope=col>used</th><th scope=col>(Mb)</th><th scope=col>gc trigger</th><th scope=col>(Mb)</th><th scope=col>max used</th><th scope=col>(Mb)</th></tr>\n",
       "</thead>\n",
       "<tbody>\n",
       "\t<tr><th scope=row>Ncells</th><td> 3608567</td><td>192.8</td><td> 28434644</td><td>1518.6</td><td>  44429130</td><td>2372.8</td></tr>\n",
       "\t<tr><th scope=row>Vcells</th><td>23449215</td><td>179.0</td><td>332950099</td><td>2540.3</td><td>1015646742</td><td>7748.8</td></tr>\n",
       "</tbody>\n",
       "</table>\n"
      ],
      "text/latex": [
       "A matrix: 2 × 6 of type dbl\n",
       "\\begin{tabular}{r|llllll}\n",
       "  & used & (Mb) & gc trigger & (Mb) & max used & (Mb)\\\\\n",
       "\\hline\n",
       "\tNcells &  3608567 & 192.8 &  28434644 & 1518.6 &   44429130 & 2372.8\\\\\n",
       "\tVcells & 23449215 & 179.0 & 332950099 & 2540.3 & 1015646742 & 7748.8\\\\\n",
       "\\end{tabular}\n"
      ],
      "text/markdown": [
       "\n",
       "A matrix: 2 × 6 of type dbl\n",
       "\n",
       "| <!--/--> | used | (Mb) | gc trigger | (Mb) | max used | (Mb) |\n",
       "|---|---|---|---|---|---|---|\n",
       "| Ncells |  3608567 | 192.8 |  28434644 | 1518.6 |   44429130 | 2372.8 |\n",
       "| Vcells | 23449215 | 179.0 | 332950099 | 2540.3 | 1015646742 | 7748.8 |\n",
       "\n"
      ],
      "text/plain": [
       "       used     (Mb)  gc trigger (Mb)   max used   (Mb)  \n",
       "Ncells  3608567 192.8  28434644  1518.6   44429130 2372.8\n",
       "Vcells 23449215 179.0 332950099  2540.3 1015646742 7748.8"
      ]
     },
     "metadata": {},
     "output_type": "display_data"
    }
   ],
   "source": [
    "pivoted_data <- pivoted_data %>%\n",
    "  mutate(\n",
    "    height_meters = height_inches * 0.0254,\n",
    "    bmi = weight_kg / (height_meters ^ 2)\n",
    "  ) %>%  as.data.frame\n",
    "\n",
    "# Merge vitals data with icu_data\n",
    "icu_data_agg <- icu_data %>%\n",
    "  left_join(pivoted_data, by = \"encounter_id\") %>%  as.data.frame\n",
    "\n",
    "# Filter records based on time conditions\n",
    "icu_data_agg <- icu_data_agg %>%\n",
    "  filter(recorded_dttm >= min_in_dttm & recorded_dttm <= after_24hr) %>%\n",
    "  arrange(recorded_dttm) %>%\n",
    "  select(-recorded_dttm)  %>%  as.data.frame\n",
    "\n",
    "duckdb_register(con, \"icu_data_agg\", icu_data_agg)\n",
    "# Aggregate data\n",
    "icu_data_agg <- tbl(con, \"icu_data_agg\") %>% \n",
    "  group_by(encounter_id) %>%\n",
    "  summarize(\n",
    "    min_bmi = min(bmi, na.rm = TRUE),\n",
    "    max_bmi = max(bmi, na.rm = TRUE),\n",
    "    avg_bmi = mean(bmi, na.rm = TRUE),\n",
    "    min_weight_kg = min(weight_kg, na.rm = TRUE), \n",
    "    max_weight_kg = max(weight_kg, na.rm = TRUE),\n",
    "    avg_weight_kg = mean(weight_kg, na.rm = TRUE),\n",
    "    min_pulse = min(pulse, na.rm = TRUE),\n",
    "    max_pulse = max(pulse, na.rm = TRUE),\n",
    "    avg_pulse = mean(pulse, na.rm = TRUE),\n",
    "    min_sbp = min(sbp, na.rm = TRUE),\n",
    "    max_sbp = max(sbp, na.rm = TRUE),\n",
    "    avg_sbp = mean(sbp, na.rm = TRUE),\n",
    "    min_dbp = min(dbp, na.rm = TRUE),\n",
    "    max_dbp = max(dbp, na.rm = TRUE),\n",
    "    avg_dbp = mean(dbp, na.rm = TRUE),\n",
    "    min_temp_c = min(temp_c, na.rm = TRUE),\n",
    "    max_temp_c = max(temp_c, na.rm = TRUE),\n",
    "    avg_temp_c = mean(temp_c, na.rm = TRUE),\n",
    "    .groups = \"drop\"  # Avoid auto-grouping in subsequent operations\n",
    "  ) %>% collect() %>%   as.data.frame\n",
    "\n",
    "# Merge aggregated data back into the original icu_data\n",
    "icu_data <- left_join(icu_data, icu_data_agg, by = \"encounter_id\")\n",
    "\n",
    "duckdb_unregister(con, \"icu_data_agg\")\n",
    "rm(icu_data_agg,pivoted_data)\n",
    "gc()  # invokes garbage collection"
   ]
  },
  {
   "cell_type": "markdown",
   "metadata": {},
   "source": [
    "### labs"
   ]
  },
  {
   "cell_type": "code",
   "execution_count": 8,
   "metadata": {
    "vscode": {
     "languageId": "r"
    }
   },
   "outputs": [],
   "source": [
    "labs <- read_data(paste0(tables_location, \"/rclif/clif_labs\", file_type))\n",
    "duckdb_register(con, \"labs\", labs)"
   ]
  },
  {
   "cell_type": "code",
   "execution_count": 9,
   "metadata": {
    "vscode": {
     "languageId": "r"
    }
   },
   "outputs": [],
   "source": [
    "labs <- dbGetQuery(con, \"\n",
    " SELECT \n",
    "        encounter_id,\n",
    "        CAST(lab_order_dttm AS datetime) AS lab_order_dttm,\n",
    "        TRY_CAST(lab_value AS float) AS lab_value,\n",
    "        lab_category \n",
    "    FROM \n",
    "        labs\n",
    "    WHERE \n",
    "        ((lab_category='monocyte'               and lab_type_name='standard') OR\n",
    "        (lab_category='lymphocyte'              and lab_type_name='standard') OR\n",
    "        (lab_category='basophil'                and lab_type_name='standard') OR\n",
    "        (lab_category='neutrophil'              and lab_type_name='standard') OR\n",
    "        (lab_category='albumin'                 and lab_type_name='standard') OR\n",
    "        (lab_category='ast'                     and lab_type_name='standard') OR\n",
    "        (lab_category='total_protein'           and lab_type_name='standard') OR\n",
    "        (lab_category='alkaline_phosphatase'    and lab_type_name='standard') OR\n",
    "        (lab_category='bilirubin_total'         and lab_type_name='standard') OR\n",
    "        (lab_category='bilirubin_conjugated'    and lab_type_name='standard') OR\n",
    "        (lab_category='calcium'                 and lab_type_name='standard') OR\n",
    "        (lab_category='chloride'                and lab_type_name='standard') OR\n",
    "        (lab_category='potassium'               and lab_type_name='standard') OR\n",
    "        (lab_category='sodium'                  and lab_type_name='standard') OR\n",
    "        (lab_category='glucose_serum'           and lab_type_name='standard') OR\n",
    "        (lab_category='hemoglobin'              and lab_type_name='standard') OR\n",
    "        (lab_category='platelet count'          and lab_type_name='standard') OR\n",
    "        (lab_category='wbc'                     and lab_type_name='standard'))\n",
    "        AND encounter_id IN (SELECT DISTINCT encounter_id FROM icu_data);\n",
    "\")\n",
    "\n",
    "pivoted_data <- labs  %>%\n",
    "  group_by(encounter_id, lab_order_dttm, lab_category) %>%\n",
    "  summarise(first_lab_value = first(lab_value), .groups = 'drop') %>%\n",
    "  pivot_wider(\n",
    "    names_from = lab_category,\n",
    "    values_from = first_lab_value\n",
    "  )  %>% \n",
    "  as.data.frame\n",
    "\n",
    "icu_data_agg <- left_join(icu_data, pivoted_data, by = \"encounter_id\")\n",
    "\n",
    "icu_data_agg <- filter(icu_data_agg, lab_order_dttm >= min_in_dttm & lab_order_dttm <= after_24hr) %>% \n",
    "  as.data.frame"
   ]
  },
  {
   "cell_type": "code",
   "execution_count": 10,
   "metadata": {
    "vscode": {
     "languageId": "r"
    }
   },
   "outputs": [
    {
     "data": {
      "text/html": [
       "<table class=\"dataframe\">\n",
       "<caption>A matrix: 2 × 6 of type dbl</caption>\n",
       "<thead>\n",
       "\t<tr><th></th><th scope=col>used</th><th scope=col>(Mb)</th><th scope=col>gc trigger</th><th scope=col>(Mb)</th><th scope=col>max used</th><th scope=col>(Mb)</th></tr>\n",
       "</thead>\n",
       "<tbody>\n",
       "\t<tr><th scope=row>Ncells</th><td>  5090582</td><td> 271.9</td><td> 14008197</td><td> 748.2</td><td>  44429130</td><td>2372.8</td></tr>\n",
       "\t<tr><th scope=row>Vcells</th><td>219175568</td><td>1672.2</td><td>575628969</td><td>4391.8</td><td>1015646742</td><td>7748.8</td></tr>\n",
       "</tbody>\n",
       "</table>\n"
      ],
      "text/latex": [
       "A matrix: 2 × 6 of type dbl\n",
       "\\begin{tabular}{r|llllll}\n",
       "  & used & (Mb) & gc trigger & (Mb) & max used & (Mb)\\\\\n",
       "\\hline\n",
       "\tNcells &   5090582 &  271.9 &  14008197 &  748.2 &   44429130 & 2372.8\\\\\n",
       "\tVcells & 219175568 & 1672.2 & 575628969 & 4391.8 & 1015646742 & 7748.8\\\\\n",
       "\\end{tabular}\n"
      ],
      "text/markdown": [
       "\n",
       "A matrix: 2 × 6 of type dbl\n",
       "\n",
       "| <!--/--> | used | (Mb) | gc trigger | (Mb) | max used | (Mb) |\n",
       "|---|---|---|---|---|---|---|\n",
       "| Ncells |   5090582 |  271.9 |  14008197 |  748.2 |   44429130 | 2372.8 |\n",
       "| Vcells | 219175568 | 1672.2 | 575628969 | 4391.8 | 1015646742 | 7748.8 |\n",
       "\n"
      ],
      "text/plain": [
       "       used      (Mb)   gc trigger (Mb)   max used   (Mb)  \n",
       "Ncells   5090582  271.9  14008197   748.2   44429130 2372.8\n",
       "Vcells 219175568 1672.2 575628969  4391.8 1015646742 7748.8"
      ]
     },
     "metadata": {},
     "output_type": "display_data"
    }
   ],
   "source": [
    "duckdb_register(con, \"icu_data_agg\", icu_data_agg)\n",
    "\n",
    "Lab_variables <- c('albumin', 'alkaline_phosphatase',\n",
    "       'ast', 'basophil', 'bilirubin_conjugated', 'bilirubin_total', 'calcium',\n",
    "       'chloride', 'hemoglobin', 'lymphocyte', 'monocyte', 'glucose_serum', \n",
    "       'neutrophil', 'potassium', 'sodium', 'total_protein','platelet count', \n",
    "       'wbc')\n",
    "\n",
    "icu_data_agg <- tbl(con, \"icu_data_agg\") %>% \n",
    "  group_by(encounter_id) %>%\n",
    "  summarise(across(all_of(Lab_variables), list(\n",
    "    min = ~min(., na.rm = TRUE), \n",
    "    max = ~max(., na.rm = TRUE), \n",
    "    mean = ~mean(., na.rm = TRUE)\n",
    "  ), .names = \"{.col}_{.fn}\")) %>%\n",
    "  ungroup() %>% collect() %>%   as.data.frame # Ensure no residual grouping\n",
    "\n",
    "duckdb_unregister(con, \"icu_data_agg\")\n",
    "\n",
    "# Merge aggregated data back into the original icu_data\n",
    "icu_data <- left_join(icu_data, icu_data_agg, by = \"encounter_id\") %>%   as.data.frame\n",
    "\n",
    "rm(icu_data_agg,pivoted_data,labs)\n",
    "gc() "
   ]
  },
  {
   "cell_type": "code",
   "execution_count": 11,
   "metadata": {
    "vscode": {
     "languageId": "r"
    }
   },
   "outputs": [],
   "source": [
    "write.csv(icu_data, \"icu_data.csv\", row.names = FALSE)\n",
    "# to skip next time\n",
    "#icu_data <- read_data(paste0(tables_location, \"/rclif/icu_data\", file_type))"
   ]
  },
  {
   "cell_type": "markdown",
   "metadata": {},
   "source": [
    "### model"
   ]
  },
  {
   "cell_type": "code",
   "execution_count": 17,
   "metadata": {
    "vscode": {
     "languageId": "r"
    }
   },
   "outputs": [
    {
     "data": {
      "text/html": [
       "<style>\n",
       ".list-inline {list-style: none; margin:0; padding: 0}\n",
       ".list-inline>li {display: inline-block}\n",
       ".list-inline>li:not(:last-child)::after {content: \"\\00b7\"; padding: 0 .5ex}\n",
       "</style>\n",
       "<ol class=list-inline><li>14598</li><li>83</li></ol>\n"
      ],
      "text/latex": [
       "\\begin{enumerate*}\n",
       "\\item 14598\n",
       "\\item 83\n",
       "\\end{enumerate*}\n"
      ],
      "text/markdown": [
       "1. 14598\n",
       "2. 83\n",
       "\n",
       "\n"
      ],
      "text/plain": [
       "[1] 14598    83"
      ]
     },
     "metadata": {},
     "output_type": "display_data"
    }
   ],
   "source": [
    "dim(icu_data)\n",
    "\n",
    "model_col <- c('isfemale', 'age', 'min_bmi', 'max_bmi', 'avg_bmi',\n",
    "               'min_weight_kg', 'max_weight_kg', 'avg_weight_kg', 'min_pulse',\n",
    "               'max_pulse', 'avg_pulse', 'min_sbp', 'max_sbp', 'avg_sbp', 'min_dbp',\n",
    "               'max_dbp', 'avg_dbp', 'min_temp_c', 'max_temp_c', 'avg_temp_c',\n",
    "               'albumin_min', 'albumin_max', 'albumin_mean',\n",
    "               'alkaline_phosphatase_min', 'alkaline_phosphatase_max',\n",
    "               'alkaline_phosphatase_mean', 'ast_min', 'ast_max', 'ast_mean',\n",
    "               'basophil_min', 'basophil_max', 'basophil_mean',\n",
    "               'bilirubin_conjugated_min', 'bilirubin_conjugated_max',\n",
    "               'bilirubin_conjugated_mean', 'bilirubin_total_min',\n",
    "               'bilirubin_total_max', 'bilirubin_total_mean', 'calcium_min',\n",
    "               'calcium_max', 'calcium_mean', 'chloride_min', 'chloride_max',\n",
    "               'chloride_mean', 'glucose_serum_min', 'glucose_serum_max',\n",
    "               'glucose_serum_mean', 'hemoglobin_min', 'hemoglobin_max',\n",
    "               'hemoglobin_mean', 'lymphocyte_min', 'lymphocyte_max',\n",
    "               'lymphocyte_mean', 'monocyte_min', 'monocyte_max', 'monocyte_mean',\n",
    "               'neutrophil_min', 'neutrophil_max', 'neutrophil_mean',\n",
    "               'platelet count_min', 'platelet count_max', 'platelet count_mean',\n",
    "               'potassium_min', 'potassium_max', 'potassium_mean', 'sodium_min',\n",
    "               'sodium_max', 'sodium_mean', 'total_protein_min', 'total_protein_max',\n",
    "               'total_protein_mean', 'wbc_min', 'wbc_max', 'wbc_mean')\n",
    "\n",
    "\n",
    "model_file_path <- sprintf(\"%s/projects/Mortality_model/models/lgbm_model_20240429-083130.txt\", tables_location)\n",
    "\n",
    "# Load the model\n",
    "model <- lgb.load(model_file_path)"
   ]
  },
  {
   "cell_type": "markdown",
   "metadata": {},
   "source": [
    "### probablity table"
   ]
  },
  {
   "cell_type": "code",
   "execution_count": 18,
   "metadata": {
    "vscode": {
     "languageId": "r"
    }
   },
   "outputs": [],
   "source": [
    "X_test <- as.matrix(icu_data[model_col])\n",
    "y_test <- factor(icu_data$isdeathdispo)  \n",
    "y_pred_proba <- predict(model, X_test)\n",
    "y_pred_class <- as.numeric(y_pred_proba > 0.5)\n",
    "icu_data$pred_proba <- y_pred_proba\n"
   ]
  },
  {
   "cell_type": "code",
   "execution_count": 19,
   "metadata": {
    "vscode": {
     "languageId": "r"
    }
   },
   "outputs": [
    {
     "data": {
      "text/html": [
       "<table class=\"dataframe\">\n",
       "<caption>A data.frame: 6 × 3</caption>\n",
       "<thead>\n",
       "\t<tr><th></th><th scope=col>site_label</th><th scope=col>site_proba</th><th scope=col>site_name</th></tr>\n",
       "\t<tr><th></th><th scope=col>&lt;fct&gt;</th><th scope=col>&lt;dbl&gt;</th><th scope=col>&lt;chr&gt;</th></tr>\n",
       "</thead>\n",
       "<tbody>\n",
       "\t<tr><th scope=row>1</th><td>0</td><td>0.009804377</td><td>RUSH</td></tr>\n",
       "\t<tr><th scope=row>2</th><td>0</td><td>0.046205195</td><td>RUSH</td></tr>\n",
       "\t<tr><th scope=row>3</th><td>0</td><td>0.010786156</td><td>RUSH</td></tr>\n",
       "\t<tr><th scope=row>4</th><td>0</td><td>0.005623915</td><td>RUSH</td></tr>\n",
       "\t<tr><th scope=row>5</th><td>0</td><td>0.012019557</td><td>RUSH</td></tr>\n",
       "\t<tr><th scope=row>6</th><td>0</td><td>0.172132549</td><td>RUSH</td></tr>\n",
       "</tbody>\n",
       "</table>\n"
      ],
      "text/latex": [
       "A data.frame: 6 × 3\n",
       "\\begin{tabular}{r|lll}\n",
       "  & site\\_label & site\\_proba & site\\_name\\\\\n",
       "  & <fct> & <dbl> & <chr>\\\\\n",
       "\\hline\n",
       "\t1 & 0 & 0.009804377 & RUSH\\\\\n",
       "\t2 & 0 & 0.046205195 & RUSH\\\\\n",
       "\t3 & 0 & 0.010786156 & RUSH\\\\\n",
       "\t4 & 0 & 0.005623915 & RUSH\\\\\n",
       "\t5 & 0 & 0.012019557 & RUSH\\\\\n",
       "\t6 & 0 & 0.172132549 & RUSH\\\\\n",
       "\\end{tabular}\n"
      ],
      "text/markdown": [
       "\n",
       "A data.frame: 6 × 3\n",
       "\n",
       "| <!--/--> | site_label &lt;fct&gt; | site_proba &lt;dbl&gt; | site_name &lt;chr&gt; |\n",
       "|---|---|---|---|\n",
       "| 1 | 0 | 0.009804377 | RUSH |\n",
       "| 2 | 0 | 0.046205195 | RUSH |\n",
       "| 3 | 0 | 0.010786156 | RUSH |\n",
       "| 4 | 0 | 0.005623915 | RUSH |\n",
       "| 5 | 0 | 0.012019557 | RUSH |\n",
       "| 6 | 0 | 0.172132549 | RUSH |\n",
       "\n"
      ],
      "text/plain": [
       "  site_label site_proba  site_name\n",
       "1 0          0.009804377 RUSH     \n",
       "2 0          0.046205195 RUSH     \n",
       "3 0          0.010786156 RUSH     \n",
       "4 0          0.005623915 RUSH     \n",
       "5 0          0.012019557 RUSH     \n",
       "6 0          0.172132549 RUSH     "
      ]
     },
     "metadata": {},
     "output_type": "display_data"
    }
   ],
   "source": [
    "site_label <- y_test\n",
    "site_proba <- y_pred_proba\n",
    "site_name <- rep(site, length(site_label))\n",
    "prob_df_lgbm <- data.frame(site_label, site_proba, site_name)\n",
    "write.csv(prob_df_lgbm, file = paste0(\"output/Model_probabilities_\", site, \".csv\"), row.names = FALSE)\n",
    "head(prob_df_lgbm)"
   ]
  },
  {
   "cell_type": "markdown",
   "metadata": {},
   "source": [
    "### basic metrics"
   ]
  },
  {
   "cell_type": "code",
   "execution_count": 20,
   "metadata": {
    "vscode": {
     "languageId": "r"
    }
   },
   "outputs": [
    {
     "name": "stderr",
     "output_type": "stream",
     "text": [
      "Setting levels: control = 0, case = 1\n",
      "\n",
      "Setting direction: controls < cases\n",
      "\n"
     ]
    },
    {
     "data": {
      "text/html": [
       "<table class=\"dataframe\">\n",
       "<caption>A data.frame: 4 × 3</caption>\n",
       "<thead>\n",
       "\t<tr><th scope=col>Metric</th><th scope=col>Value</th><th scope=col>SiteName</th></tr>\n",
       "\t<tr><th scope=col>&lt;chr&gt;</th><th scope=col>&lt;dbl&gt;</th><th scope=col>&lt;chr&gt;</th></tr>\n",
       "</thead>\n",
       "<tbody>\n",
       "\t<tr><td>Accuracy </td><td>0.9561584</td><td>RUSH</td></tr>\n",
       "\t<tr><td>Recall   </td><td>0.4455627</td><td>RUSH</td></tr>\n",
       "\t<tr><td>Precision</td><td>0.9347409</td><td>RUSH</td></tr>\n",
       "\t<tr><td>ROC AUC  </td><td>0.9508122</td><td>RUSH</td></tr>\n",
       "</tbody>\n",
       "</table>\n"
      ],
      "text/latex": [
       "A data.frame: 4 × 3\n",
       "\\begin{tabular}{lll}\n",
       " Metric & Value & SiteName\\\\\n",
       " <chr> & <dbl> & <chr>\\\\\n",
       "\\hline\n",
       "\t Accuracy  & 0.9561584 & RUSH\\\\\n",
       "\t Recall    & 0.4455627 & RUSH\\\\\n",
       "\t Precision & 0.9347409 & RUSH\\\\\n",
       "\t ROC AUC   & 0.9508122 & RUSH\\\\\n",
       "\\end{tabular}\n"
      ],
      "text/markdown": [
       "\n",
       "A data.frame: 4 × 3\n",
       "\n",
       "| Metric &lt;chr&gt; | Value &lt;dbl&gt; | SiteName &lt;chr&gt; |\n",
       "|---|---|---|\n",
       "| Accuracy  | 0.9561584 | RUSH |\n",
       "| Recall    | 0.4455627 | RUSH |\n",
       "| Precision | 0.9347409 | RUSH |\n",
       "| ROC AUC   | 0.9508122 | RUSH |\n",
       "\n"
      ],
      "text/plain": [
       "  Metric    Value     SiteName\n",
       "1 Accuracy  0.9561584 RUSH    \n",
       "2 Recall    0.4455627 RUSH    \n",
       "3 Precision 0.9347409 RUSH    \n",
       "4 ROC AUC   0.9508122 RUSH    "
      ]
     },
     "metadata": {},
     "output_type": "display_data"
    }
   ],
   "source": [
    "# Predict probabilities and binary predictions\n",
    "predicted_probabilities <- predict(model, X_test)\n",
    "predicted_classes <- as.integer(predicted_probabilities >= 0.5)\n",
    "\n",
    "# Generate a confusion matrix\n",
    "conf_matrix <- confusionMatrix(as.factor(predicted_classes), as.factor(y_test))\n",
    "\n",
    "# Extract metrics\n",
    "accuracy <- conf_matrix$overall['Accuracy']\n",
    "roc_auc <- pROC::auc(pROC::roc(y_test, predicted_probabilities))\n",
    "\n",
    "# Calculate metrics for each threshold\n",
    "predicted_positive <- predict(model, X_test) >= 0.5\n",
    "actual_positive <- icu_data$isdeathdispo == 1\n",
    "actual_negative <- icu_data$isdeathdispo == 0\n",
    "\n",
    "tp <- sum(predicted_positive & actual_positive, na.rm = TRUE)\n",
    "fp <- sum(predicted_positive & actual_negative, na.rm = TRUE)\n",
    "fn <- sum(!predicted_positive & actual_positive, na.rm = TRUE)\n",
    "tn <- sum(!predicted_positive & actual_negative, na.rm = TRUE)\n",
    "\n",
    "recall <- ifelse((tp + fn) > 0, tp / (tp + fn), 0)\n",
    "\n",
    "precision <- ifelse((tp + fp) > 0, tp / (tp + fp), 0)\n",
    "\n",
    "\n",
    "Metric = c('Accuracy', 'Recall', 'Precision', 'ROC AUC')\n",
    "Value = c(accuracy, recall, precision, roc_auc)\n",
    "SiteName = rep(site,4)  # Change 7 to the number of metrics\n",
    "\n",
    "# Create a data frame to store the results\n",
    "results_metric <- data.frame(\n",
    "  Metric ,\n",
    "  Value ,\n",
    "  SiteName \n",
    ")\n",
    "\n",
    "# Export to CSV\n",
    "write.csv(results_metric, sprintf(\"output/result_metrics_%s.csv\", site), row.names = FALSE)\n",
    "\n",
    "# Print the results\n",
    "results_metric"
   ]
  },
  {
   "cell_type": "markdown",
   "metadata": {},
   "source": [
    "#### model fairness test accross 'race', 'ethnicity', 'sex'"
   ]
  },
  {
   "cell_type": "code",
   "execution_count": 21,
   "metadata": {
    "vscode": {
     "languageId": "r"
    }
   },
   "outputs": [
    {
     "data": {
      "text/html": [
       "<table class=\"dataframe\">\n",
       "<caption>A data.frame: 9 × 7</caption>\n",
       "<thead>\n",
       "\t<tr><th scope=col>Subgroup</th><th scope=col>Group</th><th scope=col>AUC</th><th scope=col>PPV</th><th scope=col>GroupCount</th><th scope=col>TotalCount</th><th scope=col>Proportion</th></tr>\n",
       "\t<tr><th scope=col>&lt;chr&gt;</th><th scope=col>&lt;chr&gt;</th><th scope=col>&lt;dbl&gt;</th><th scope=col>&lt;dbl&gt;</th><th scope=col>&lt;int&gt;</th><th scope=col>&lt;int&gt;</th><th scope=col>&lt;dbl&gt;</th></tr>\n",
       "</thead>\n",
       "<tbody>\n",
       "\t<tr><td>race     </td><td>Black                 </td><td>0.9475093</td><td>0.9421053</td><td> 5762</td><td>14598</td><td>0.394711604</td></tr>\n",
       "\t<tr><td>race     </td><td>White                 </td><td>0.9510462</td><td>0.9513514</td><td> 5619</td><td>14598</td><td>0.384915742</td></tr>\n",
       "\t<tr><td>race     </td><td>Others                </td><td>0.9527645</td><td>0.9008264</td><td> 2732</td><td>14598</td><td>0.187148925</td></tr>\n",
       "\t<tr><td>race     </td><td>Asian                 </td><td>0.9609073</td><td>0.9200000</td><td>  485</td><td>14598</td><td>0.033223729</td></tr>\n",
       "\t<tr><td>ethnicity</td><td>Not Hispanic or Latino</td><td>0.9525833</td><td>0.9414758</td><td>11618</td><td>14598</td><td>0.795862447</td></tr>\n",
       "\t<tr><td>ethnicity</td><td>Hispanic or Latino    </td><td>0.9458819</td><td>0.9067797</td><td> 2876</td><td>14598</td><td>0.197013289</td></tr>\n",
       "\t<tr><td>ethnicity</td><td>Others                </td><td>0.9043393</td><td>1.0000000</td><td>  104</td><td>14598</td><td>0.007124264</td></tr>\n",
       "\t<tr><td>sex      </td><td>Male                  </td><td>0.9504823</td><td>0.9259259</td><td> 7779</td><td>14598</td><td>0.532881217</td></tr>\n",
       "\t<tr><td>sex      </td><td>Female                </td><td>0.9510130</td><td>0.9442231</td><td> 6819</td><td>14598</td><td>0.467118783</td></tr>\n",
       "</tbody>\n",
       "</table>\n"
      ],
      "text/latex": [
       "A data.frame: 9 × 7\n",
       "\\begin{tabular}{lllllll}\n",
       " Subgroup & Group & AUC & PPV & GroupCount & TotalCount & Proportion\\\\\n",
       " <chr> & <chr> & <dbl> & <dbl> & <int> & <int> & <dbl>\\\\\n",
       "\\hline\n",
       "\t race      & Black                  & 0.9475093 & 0.9421053 &  5762 & 14598 & 0.394711604\\\\\n",
       "\t race      & White                  & 0.9510462 & 0.9513514 &  5619 & 14598 & 0.384915742\\\\\n",
       "\t race      & Others                 & 0.9527645 & 0.9008264 &  2732 & 14598 & 0.187148925\\\\\n",
       "\t race      & Asian                  & 0.9609073 & 0.9200000 &   485 & 14598 & 0.033223729\\\\\n",
       "\t ethnicity & Not Hispanic or Latino & 0.9525833 & 0.9414758 & 11618 & 14598 & 0.795862447\\\\\n",
       "\t ethnicity & Hispanic or Latino     & 0.9458819 & 0.9067797 &  2876 & 14598 & 0.197013289\\\\\n",
       "\t ethnicity & Others                 & 0.9043393 & 1.0000000 &   104 & 14598 & 0.007124264\\\\\n",
       "\t sex       & Male                   & 0.9504823 & 0.9259259 &  7779 & 14598 & 0.532881217\\\\\n",
       "\t sex       & Female                 & 0.9510130 & 0.9442231 &  6819 & 14598 & 0.467118783\\\\\n",
       "\\end{tabular}\n"
      ],
      "text/markdown": [
       "\n",
       "A data.frame: 9 × 7\n",
       "\n",
       "| Subgroup &lt;chr&gt; | Group &lt;chr&gt; | AUC &lt;dbl&gt; | PPV &lt;dbl&gt; | GroupCount &lt;int&gt; | TotalCount &lt;int&gt; | Proportion &lt;dbl&gt; |\n",
       "|---|---|---|---|---|---|---|\n",
       "| race      | Black                  | 0.9475093 | 0.9421053 |  5762 | 14598 | 0.394711604 |\n",
       "| race      | White                  | 0.9510462 | 0.9513514 |  5619 | 14598 | 0.384915742 |\n",
       "| race      | Others                 | 0.9527645 | 0.9008264 |  2732 | 14598 | 0.187148925 |\n",
       "| race      | Asian                  | 0.9609073 | 0.9200000 |   485 | 14598 | 0.033223729 |\n",
       "| ethnicity | Not Hispanic or Latino | 0.9525833 | 0.9414758 | 11618 | 14598 | 0.795862447 |\n",
       "| ethnicity | Hispanic or Latino     | 0.9458819 | 0.9067797 |  2876 | 14598 | 0.197013289 |\n",
       "| ethnicity | Others                 | 0.9043393 | 1.0000000 |   104 | 14598 | 0.007124264 |\n",
       "| sex       | Male                   | 0.9504823 | 0.9259259 |  7779 | 14598 | 0.532881217 |\n",
       "| sex       | Female                 | 0.9510130 | 0.9442231 |  6819 | 14598 | 0.467118783 |\n",
       "\n"
      ],
      "text/plain": [
       "  Subgroup  Group                  AUC       PPV       GroupCount TotalCount\n",
       "1 race      Black                  0.9475093 0.9421053  5762      14598     \n",
       "2 race      White                  0.9510462 0.9513514  5619      14598     \n",
       "3 race      Others                 0.9527645 0.9008264  2732      14598     \n",
       "4 race      Asian                  0.9609073 0.9200000   485      14598     \n",
       "5 ethnicity Not Hispanic or Latino 0.9525833 0.9414758 11618      14598     \n",
       "6 ethnicity Hispanic or Latino     0.9458819 0.9067797  2876      14598     \n",
       "7 ethnicity Others                 0.9043393 1.0000000   104      14598     \n",
       "8 sex       Male                   0.9504823 0.9259259  7779      14598     \n",
       "9 sex       Female                 0.9510130 0.9442231  6819      14598     \n",
       "  Proportion \n",
       "1 0.394711604\n",
       "2 0.384915742\n",
       "3 0.187148925\n",
       "4 0.033223729\n",
       "5 0.795862447\n",
       "6 0.197013289\n",
       "7 0.007124264\n",
       "8 0.532881217\n",
       "9 0.467118783"
      ]
     },
     "metadata": {},
     "output_type": "display_data"
    }
   ],
   "source": [
    "\n",
    "calculate_metrics <- function(data, true_col, pred_prob_col, subgroup_cols) {\n",
    "  results <- list()\n",
    "  total_count <- nrow(data)\n",
    "  \n",
    "  for (subgroup_col in subgroup_cols) {\n",
    "    # Filter out rows with NA in the current subgroup column\n",
    "    filtered_data <- data %>% filter(!is.na(.data[[subgroup_col]])) %>% drop_na(.data[[true_col]], .data[[pred_prob_col]])\n",
    "    \n",
    "    # Loop over unique groups in the subgroup column\n",
    "    for (group in unique(filtered_data[[subgroup_col]])) {\n",
    "      subgroup_data <- filtered_data %>% filter(.data[[subgroup_col]] == group)\n",
    "      group_count <- nrow(subgroup_data)\n",
    "      proportion <- group_count / total_count\n",
    "      \n",
    "      # Check if there are at least two distinct classes and no NA in predictor\n",
    "      if (length(unique(subgroup_data[[true_col]])) > 1 && sum(!is.na(subgroup_data[[pred_prob_col]])) == nrow(subgroup_data)) {\n",
    "        # Calculate AUC\n",
    "        pred <- prediction(subgroup_data[[pred_prob_col]], subgroup_data[[true_col]])\n",
    "        auc <- performance(pred, \"auc\")@y.values[[1]]\n",
    "        # Calculate confusion matrix\n",
    "        cm <- table(factor(subgroup_data[[true_col]], levels = c(0, 1)),\n",
    "                    factor(as.numeric(subgroup_data[[pred_prob_col]] > 0.5), levels = c(0, 1)))\n",
    "        tn <- cm[1, 1]\n",
    "        fp <- cm[1, 2]\n",
    "        fn <- cm[2, 1]\n",
    "        tp <- cm[2, 2]\n",
    "        ppv <- ifelse((tp + fp) != 0, tp / (tp + fp), 0)\n",
    "        \n",
    "        result <- list(Subgroup = subgroup_col, Group = group, AUC = auc, PPV = ppv,\n",
    "                       GroupCount = group_count, TotalCount = total_count, Proportion = proportion)\n",
    "      } else {\n",
    "        result <- list(Subgroup = subgroup_col, Group = group, AUC = 'Not defined', PPV = 'Not applicable',\n",
    "                       GroupCount = group_count, TotalCount = total_count, Proportion = proportion)\n",
    "      }\n",
    "      \n",
    "      results <- c(results, list(result))\n",
    "    }\n",
    "  }\n",
    "  \n",
    "  # Convert the list of results to a data frame\n",
    "  results_df <- do.call(rbind, lapply(results, as.data.frame))\n",
    "  return(results_df)\n",
    "}\n",
    "\n",
    "# Example usage\n",
    "result_df <- calculate_metrics(icu_data, 'isdeathdispo', 'pred_proba', c('race', 'ethnicity', 'sex'))\n",
    "\n",
    "write.csv(result_df, file = paste0(\"output/fairness_test_\", site, \".csv\"), row.names = FALSE)\n",
    "\n",
    "result_df"
   ]
  }
 ],
 "metadata": {
  "kernelspec": {
   "display_name": "R",
   "language": "R",
   "name": "ir"
  },
  "language_info": {
   "codemirror_mode": "r",
   "file_extension": ".r",
   "mimetype": "text/x-r-source",
   "name": "R",
   "pygments_lexer": "r",
   "version": "4.1.3"
  }
 },
 "nbformat": 4,
 "nbformat_minor": 2
}
